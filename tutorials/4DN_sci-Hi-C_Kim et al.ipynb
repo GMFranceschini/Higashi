{
 "cells": [
  {
   "cell_type": "markdown",
   "metadata": {},
   "source": [
    "# 4DN sci-Hi-C cell line clustering"
   ]
  },
  {
   "cell_type": "markdown",
   "metadata": {},
   "source": [
    "## Notes\n",
    "\n",
    "This tutorial uses the new API of Higashi (wrapping all functions of Higashi into the Higashi() class).\n",
    "The old API of Higashi will still be supported and maintained).\n",
    "Please check changelog for the current status of migration from the old API to the new API."
   ]
  },
  {
   "cell_type": "markdown",
   "metadata": {},
   "source": [
    "## Preparation\n",
    "\n",
    "### Download input files\n",
    "Download the demo data from the following link (4DN-sci-Hi-C Kim et al)\n",
    "https://drive.google.com/drive/u/1/folders/1j7ffz96kv_Ft3hicu2DRBmfcje0RA1sc\n",
    "\n",
    "The data is the same as the mtx files from https://noble.gs.washington.edu/proj/schic-topic-model/\n",
    "The mtx files are concatenated and transformed into the Higashi input format.\n",
    "\n",
    "Change the file path in the corresponding JSON file according to the location of the downloaded files.\n",
    "\n",
    "### Install Higashi\n",
    "\n",
    "1. install pytorch>=1.8.0 with cuda support when available.\n",
    "2. `conda install -c ruochiz higashi`\n",
    "(Although higashi would install pytorch when needed, there is no guarantee that it will install the correct version with cuda support. It is recommended to install pytorch separately before higashi.)"
   ]
  },
  {
   "cell_type": "markdown",
   "metadata": {},
   "source": [
    "## Start running Higashi"
   ]
  },
  {
   "cell_type": "markdown",
   "metadata": {},
   "source": [
    "### 1. Import package, set the path to the configuration JSON file."
   ]
  },
  {
   "cell_type": "code",
   "execution_count": 4,
   "metadata": {},
   "outputs": [],
   "source": [
    "from higashi.Higashi_wrapper import *\n",
    "# Set the path to the configuration file, change it accordingly\n",
    "config = \"../config_dir/config_4DN_pub.JSON\""
   ]
  },
  {
   "cell_type": "markdown",
   "metadata": {},
   "source": [
    "### 2. Process data for higashi model & prep the higashi model for training and imputation"
   ]
  },
  {
   "cell_type": "code",
   "execution_count": 6,
   "metadata": {},
   "outputs": [
    {
     "name": "stdout",
     "output_type": "stream",
     "text": [
      "setting to gpu:7\n",
      "training on data from: ['chr1', 'chr2', 'chr3', 'chr4', 'chr5', 'chr6', 'chr7', 'chr8', 'chr9', 'chr10', 'chr11', 'chr12', 'chr13', 'chr14', 'chr15', 'chr16', 'chr17', 'chr18', 'chr19', 'chr20', 'chr21', 'chr22']\n",
      "total_sparsity_cell 0.012761184803150997\n",
      "no contractive loss\n",
      "Node type num [16707   499   487   397   383   362   343   319   293   283   272   271\n",
      "   268   231   215   206   181   163   157   119   127    97   103] [16707 17206 17693 18090 18473 18835 19178 19497 19790 20073 20345 20616\n",
      " 20884 21115 21330 21536 21717 21880 22037 22156 22283 22380 22483]\n",
      "start making attribute\n"
     ]
    },
    {
     "data": {
      "application/vnd.jupyter.widget-view+json": {
       "model_id": "a73dce90ad4e413982ed495a7c70701d",
       "version_major": 2,
       "version_minor": 0
      },
      "text/plain": [
       "  0%|          | 0/300 [00:00<?, ?it/s]"
      ]
     },
     "metadata": {},
     "output_type": "display_data"
    },
    {
     "name": "stdout",
     "output_type": "stream",
     "text": [
      "loss 0.8978922963142395 loss best 0.8527839779853821 epochs 104\n",
      "\n",
      "initializing data generator\n"
     ]
    },
    {
     "data": {
      "application/vnd.jupyter.widget-view+json": {
       "model_id": "3f0a859812b64ad58e2166756e25fb6b",
       "version_major": 2,
       "version_minor": 0
      },
      "text/plain": [
       "  0%|          | 0/22 [00:00<?, ?it/s]"
      ]
     },
     "metadata": {},
     "output_type": "display_data"
    },
    {
     "name": "stdout",
     "output_type": "stream",
     "text": [
      "initializing data generator\n"
     ]
    },
    {
     "data": {
      "application/vnd.jupyter.widget-view+json": {
       "model_id": "ae9335a0dd004c46986f4a899866214c",
       "version_major": 2,
       "version_minor": 0
      },
      "text/plain": [
       "  0%|          | 0/22 [00:00<?, ?it/s]"
      ]
     },
     "metadata": {},
     "output_type": "display_data"
    }
   ],
   "source": [
    "# Initialize the Higashi instance\n",
    "higashi_model = Higashi(config)\n",
    "\n",
    "# Data processing (only needs to be run for once)\n",
    "higashi.process_data()\n",
    "higashi_model.prep_model()"
   ]
  },
  {
   "cell_type": "markdown",
   "metadata": {},
   "source": [
    "### 3. First stage training for embeddings"
   ]
  },
  {
   "cell_type": "code",
   "execution_count": 7,
   "metadata": {},
   "outputs": [
    {
     "name": "stdout",
     "output_type": "stream",
     "text": [
      "First stage training\n",
      "[ Epoch 0 of 80 ]\n"
     ]
    },
    {
     "data": {
      "application/vnd.jupyter.widget-view+json": {
       "model_id": "",
       "version_major": 2,
       "version_minor": 0
      },
      "text/plain": [
       " - (Training) :   0%|          | 0/1000 [00:00<?, ?it/s]"
      ]
     },
     "metadata": {},
     "output_type": "display_data"
    },
    {
     "name": "stdout",
     "output_type": "stream",
     "text": [
      "- (Train)   bce:  0.4409, mse:  1.3129,  acc: 84.093 %, pearson: 0.378, spearman: 0.313, elapse: 134.783 s\n"
     ]
    },
    {
     "data": {
      "application/vnd.jupyter.widget-view+json": {
       "model_id": "",
       "version_major": 2,
       "version_minor": 0
      },
      "text/plain": [
       "  - (Validation)   :   0%|          | 0/10 [00:00<?, ?it/s]"
      ]
     },
     "metadata": {},
     "output_type": "display_data"
    },
    {
     "name": "stdout",
     "output_type": "stream",
     "text": [
      "- (Valid) bce:  0.4081,  acc: 84.835 %,pearson: 0.499, spearman: 0.421,elapse: 0.267 s\n",
      "update_rate: 1.014705\t1.088508\tupdate_rate: 0.000000\t0.000000\tpair_ratio: 0.1\t\n",
      "[ Epoch 1 of 80 ]\n"
     ]
    },
    {
     "data": {
      "application/vnd.jupyter.widget-view+json": {
       "model_id": "",
       "version_major": 2,
       "version_minor": 0
      },
      "text/plain": [
       " - (Training) :   0%|          | 0/1000 [00:00<?, ?it/s]"
      ]
     },
     "metadata": {},
     "output_type": "display_data"
    },
    {
     "name": "stdout",
     "output_type": "stream",
     "text": [
      "- (Train)   bce:  0.3717, mse:  1.3468,  acc: 86.998 %, pearson: 0.569, spearman: 0.477, elapse: 98.688 s\n"
     ]
    },
    {
     "data": {
      "application/vnd.jupyter.widget-view+json": {
       "model_id": "",
       "version_major": 2,
       "version_minor": 0
      },
      "text/plain": [
       "  - (Validation)   :   0%|          | 0/10 [00:00<?, ?it/s]"
      ]
     },
     "metadata": {},
     "output_type": "display_data"
    },
    {
     "name": "stdout",
     "output_type": "stream",
     "text": [
      "- (Valid) bce:  0.3580,  acc: 88.130 %,pearson: 0.611, spearman: 0.500,elapse: 0.278 s\n",
      "update_rate: 0.715208\t15.391309\tpair_ratio: 0.2\t\n",
      "[ Epoch 2 of 80 ]\n"
     ]
    },
    {
     "data": {
      "application/vnd.jupyter.widget-view+json": {
       "model_id": "",
       "version_major": 2,
       "version_minor": 0
      },
      "text/plain": [
       " - (Training) :   0%|          | 0/1000 [00:00<?, ?it/s]"
      ]
     },
     "metadata": {},
     "output_type": "display_data"
    },
    {
     "name": "stdout",
     "output_type": "stream",
     "text": [
      "- (Train)   bce:  0.3547, mse:  1.5188,  acc: 88.392 %, pearson: 0.619, spearman: 0.503, elapse: 98.162 s\n"
     ]
    },
    {
     "data": {
      "application/vnd.jupyter.widget-view+json": {
       "model_id": "",
       "version_major": 2,
       "version_minor": 0
      },
      "text/plain": [
       "  - (Validation)   :   0%|          | 0/10 [00:00<?, ?it/s]"
      ]
     },
     "metadata": {},
     "output_type": "display_data"
    },
    {
     "name": "stdout",
     "output_type": "stream",
     "text": [
      "- (Valid) bce:  0.3528,  acc: 88.772 %,pearson: 0.644, spearman: 0.507,elapse: 0.273 s\n",
      "update_rate: 0.224767\t2.200308\tpair_ratio: 0.3\t\n",
      "[ Epoch 3 of 80 ]\n"
     ]
    },
    {
     "data": {
      "application/vnd.jupyter.widget-view+json": {
       "model_id": "",
       "version_major": 2,
       "version_minor": 0
      },
      "text/plain": [
       " - (Training) :   0%|          | 0/1000 [00:00<?, ?it/s]"
      ]
     },
     "metadata": {},
     "output_type": "display_data"
    },
    {
     "name": "stdout",
     "output_type": "stream",
     "text": [
      "- (Train)   bce:  0.3462, mse:  1.1899,  acc: 89.147 %, pearson: 0.650, spearman: 0.514, elapse: 97.687 s\n"
     ]
    },
    {
     "data": {
      "application/vnd.jupyter.widget-view+json": {
       "model_id": "",
       "version_major": 2,
       "version_minor": 0
      },
      "text/plain": [
       "  - (Validation)   :   0%|          | 0/10 [00:00<?, ?it/s]"
      ]
     },
     "metadata": {},
     "output_type": "display_data"
    },
    {
     "name": "stdout",
     "output_type": "stream",
     "text": [
      "- (Valid) bce:  0.3377,  acc: 89.547 %,pearson: 0.671, spearman: 0.527,elapse: 0.263 s\n",
      "update_rate: 0.110246\t0.457779\tpair_ratio: 0.4\t\n",
      "[ Epoch 4 of 80 ]\n"
     ]
    },
    {
     "data": {
      "application/vnd.jupyter.widget-view+json": {
       "model_id": "",
       "version_major": 2,
       "version_minor": 0
      },
      "text/plain": [
       " - (Training) :   0%|          | 0/1000 [00:00<?, ?it/s]"
      ]
     },
     "metadata": {},
     "output_type": "display_data"
    },
    {
     "name": "stdout",
     "output_type": "stream",
     "text": [
      "- (Train)   bce:  0.3421, mse:  0.9911,  acc: 89.521 %, pearson: 0.663, spearman: 0.520, elapse: 95.539 s\n"
     ]
    },
    {
     "data": {
      "application/vnd.jupyter.widget-view+json": {
       "model_id": "",
       "version_major": 2,
       "version_minor": 0
      },
      "text/plain": [
       "  - (Validation)   :   0%|          | 0/10 [00:00<?, ?it/s]"
      ]
     },
     "metadata": {},
     "output_type": "display_data"
    },
    {
     "name": "stdout",
     "output_type": "stream",
     "text": [
      "- (Valid) bce:  0.3455,  acc: 89.338 %,pearson: 0.639, spearman: 0.518,elapse: 0.389 s\n",
      "update_rate: 0.058654\t0.198261\tpair_ratio: 0.5\t\n",
      "[ Epoch 5 of 80 ]\n"
     ]
    },
    {
     "data": {
      "application/vnd.jupyter.widget-view+json": {
       "model_id": "",
       "version_major": 2,
       "version_minor": 0
      },
      "text/plain": [
       " - (Training) :   0%|          | 0/1000 [00:00<?, ?it/s]"
      ]
     },
     "metadata": {},
     "output_type": "display_data"
    },
    {
     "name": "stdout",
     "output_type": "stream",
     "text": [
      "- (Train)   bce:  0.3406, mse:  0.9741,  acc: 89.660 %, pearson: 0.667, spearman: 0.522, elapse: 95.191 s\n"
     ]
    },
    {
     "data": {
      "application/vnd.jupyter.widget-view+json": {
       "model_id": "",
       "version_major": 2,
       "version_minor": 0
      },
      "text/plain": [
       "  - (Validation)   :   0%|          | 0/10 [00:00<?, ?it/s]"
      ]
     },
     "metadata": {},
     "output_type": "display_data"
    },
    {
     "name": "stdout",
     "output_type": "stream",
     "text": [
      "- (Valid) bce:  0.3443,  acc: 89.436 %,pearson: 0.658, spearman: 0.516,elapse: 0.270 s\n",
      "update_rate: 0.029441\t0.180600\t\n",
      "[ Epoch 6 of 80 ]\n"
     ]
    },
    {
     "data": {
      "application/vnd.jupyter.widget-view+json": {
       "model_id": "",
       "version_major": 2,
       "version_minor": 0
      },
      "text/plain": [
       " - (Training) :   0%|          | 0/1000 [00:00<?, ?it/s]"
      ]
     },
     "metadata": {},
     "output_type": "display_data"
    },
    {
     "name": "stdout",
     "output_type": "stream",
     "text": [
      "- (Train)   bce:  0.3401, mse:  0.9724,  acc: 89.697 %, pearson: 0.671, spearman: 0.522, elapse: 106.801 s\n"
     ]
    },
    {
     "data": {
      "application/vnd.jupyter.widget-view+json": {
       "model_id": "",
       "version_major": 2,
       "version_minor": 0
      },
      "text/plain": [
       "  - (Validation)   :   0%|          | 0/10 [00:00<?, ?it/s]"
      ]
     },
     "metadata": {},
     "output_type": "display_data"
    },
    {
     "name": "stdout",
     "output_type": "stream",
     "text": [
      "- (Valid) bce:  0.3441,  acc: 89.605 %,pearson: 0.683, spearman: 0.515,elapse: 0.279 s\n",
      "update_rate: 0.015751\t0.131197\t\n",
      "[ Epoch 7 of 80 ]\n"
     ]
    },
    {
     "data": {
      "application/vnd.jupyter.widget-view+json": {
       "model_id": "",
       "version_major": 2,
       "version_minor": 0
      },
      "text/plain": [
       " - (Training) :   0%|          | 0/1000 [00:00<?, ?it/s]"
      ]
     },
     "metadata": {},
     "output_type": "display_data"
    },
    {
     "name": "stdout",
     "output_type": "stream",
     "text": [
      "- (Train)   bce:  0.3384, mse:  0.9650,  acc: 89.788 %, pearson: 0.677, spearman: 0.524, elapse: 99.196 s\n"
     ]
    },
    {
     "data": {
      "application/vnd.jupyter.widget-view+json": {
       "model_id": "",
       "version_major": 2,
       "version_minor": 0
      },
      "text/plain": [
       "  - (Validation)   :   0%|          | 0/10 [00:00<?, ?it/s]"
      ]
     },
     "metadata": {},
     "output_type": "display_data"
    },
    {
     "name": "stdout",
     "output_type": "stream",
     "text": [
      "- (Valid) bce:  0.3348,  acc: 89.754 %,pearson: 0.695, spearman: 0.529,elapse: 0.285 s\n",
      "update_rate: 0.013218\t0.139048\t\n",
      "[ Epoch 8 of 80 ]\n"
     ]
    },
    {
     "data": {
      "application/vnd.jupyter.widget-view+json": {
       "model_id": "",
       "version_major": 2,
       "version_minor": 0
      },
      "text/plain": [
       " - (Training) :   0%|          | 0/1000 [00:00<?, ?it/s]"
      ]
     },
     "metadata": {},
     "output_type": "display_data"
    },
    {
     "name": "stdout",
     "output_type": "stream",
     "text": [
      "- (Train)   bce:  0.3378, mse:  0.9628,  acc: 89.826 %, pearson: 0.682, spearman: 0.524, elapse: 97.853 s\n"
     ]
    },
    {
     "data": {
      "application/vnd.jupyter.widget-view+json": {
       "model_id": "",
       "version_major": 2,
       "version_minor": 0
      },
      "text/plain": [
       "  - (Validation)   :   0%|          | 0/10 [00:00<?, ?it/s]"
      ]
     },
     "metadata": {},
     "output_type": "display_data"
    },
    {
     "name": "stdout",
     "output_type": "stream",
     "text": [
      "- (Valid) bce:  0.3356,  acc: 89.882 %,pearson: 0.685, spearman: 0.529,elapse: 0.286 s\n",
      "update_rate: 0.005916\t0.084229\t\n",
      "[ Epoch 9 of 80 ]\n"
     ]
    },
    {
     "data": {
      "application/vnd.jupyter.widget-view+json": {
       "model_id": "",
       "version_major": 2,
       "version_minor": 0
      },
      "text/plain": [
       " - (Training) :   0%|          | 0/1000 [00:00<?, ?it/s]"
      ]
     },
     "metadata": {},
     "output_type": "display_data"
    },
    {
     "name": "stdout",
     "output_type": "stream",
     "text": [
      "- (Train)   bce:  0.3363, mse:  0.9625,  acc: 89.893 %, pearson: 0.686, spearman: 0.526, elapse: 97.602 s\n"
     ]
    },
    {
     "data": {
      "application/vnd.jupyter.widget-view+json": {
       "model_id": "",
       "version_major": 2,
       "version_minor": 0
      },
      "text/plain": [
       "  - (Validation)   :   0%|          | 0/10 [00:00<?, ?it/s]"
      ]
     },
     "metadata": {},
     "output_type": "display_data"
    },
    {
     "name": "stdout",
     "output_type": "stream",
     "text": [
      "- (Valid) bce:  0.3394,  acc: 89.715 %,pearson: 0.695, spearman: 0.524,elapse: 0.278 s\n",
      "update_rate: 0.005900\t0.103330\t\n",
      "[ Epoch 10 of 80 ]\n"
     ]
    },
    {
     "data": {
      "application/vnd.jupyter.widget-view+json": {
       "model_id": "",
       "version_major": 2,
       "version_minor": 0
      },
      "text/plain": [
       " - (Training) :   0%|          | 0/1000 [00:00<?, ?it/s]"
      ]
     },
     "metadata": {},
     "output_type": "display_data"
    },
    {
     "name": "stdout",
     "output_type": "stream",
     "text": [
      "- (Train)   bce:  0.3353, mse:  0.9602,  acc: 89.942 %, pearson: 0.690, spearman: 0.527, elapse: 96.672 s\n"
     ]
    },
    {
     "data": {
      "application/vnd.jupyter.widget-view+json": {
       "model_id": "",
       "version_major": 2,
       "version_minor": 0
      },
      "text/plain": [
       "  - (Validation)   :   0%|          | 0/10 [00:00<?, ?it/s]"
      ]
     },
     "metadata": {},
     "output_type": "display_data"
    },
    {
     "name": "stdout",
     "output_type": "stream",
     "text": [
      "- (Valid) bce:  0.3299,  acc: 90.085 %,pearson: 0.693, spearman: 0.539,elapse: 0.326 s\n",
      "update_rate: 0.004623\t0.093469\t\n",
      "[ Epoch 11 of 80 ]\n"
     ]
    },
    {
     "data": {
      "application/vnd.jupyter.widget-view+json": {
       "model_id": "",
       "version_major": 2,
       "version_minor": 0
      },
      "text/plain": [
       " - (Training) :   0%|          | 0/1000 [00:00<?, ?it/s]"
      ]
     },
     "metadata": {},
     "output_type": "display_data"
    },
    {
     "name": "stdout",
     "output_type": "stream",
     "text": [
      "- (Train)   bce:  0.3343, mse:  0.9592,  acc: 89.975 %, pearson: 0.695, spearman: 0.528, elapse: 95.213 s\n"
     ]
    },
    {
     "data": {
      "application/vnd.jupyter.widget-view+json": {
       "model_id": "",
       "version_major": 2,
       "version_minor": 0
      },
      "text/plain": [
       "  - (Validation)   :   0%|          | 0/10 [00:00<?, ?it/s]"
      ]
     },
     "metadata": {},
     "output_type": "display_data"
    },
    {
     "name": "stdout",
     "output_type": "stream",
     "text": [
      "- (Valid) bce:  0.3391,  acc: 89.863 %,pearson: 0.703, spearman: 0.523,elapse: 0.289 s\n",
      "update_rate: 0.003104\t0.070421\t\n",
      "[ Epoch 12 of 80 ]\n"
     ]
    },
    {
     "data": {
      "application/vnd.jupyter.widget-view+json": {
       "model_id": "",
       "version_major": 2,
       "version_minor": 0
      },
      "text/plain": [
       " - (Training) :   0%|          | 0/1000 [00:00<?, ?it/s]"
      ]
     },
     "metadata": {},
     "output_type": "display_data"
    },
    {
     "name": "stdout",
     "output_type": "stream",
     "text": [
      "- (Train)   bce:  0.3351, mse:  0.9595,  acc: 89.959 %, pearson: 0.701, spearman: 0.527, elapse: 95.941 s\n"
     ]
    },
    {
     "data": {
      "application/vnd.jupyter.widget-view+json": {
       "model_id": "",
       "version_major": 2,
       "version_minor": 0
      },
      "text/plain": [
       "  - (Validation)   :   0%|          | 0/10 [00:00<?, ?it/s]"
      ]
     },
     "metadata": {},
     "output_type": "display_data"
    },
    {
     "name": "stdout",
     "output_type": "stream",
     "text": [
      "- (Valid) bce:  0.3331,  acc: 89.915 %,pearson: 0.688, spearman: 0.530,elapse: 0.260 s\n",
      "update_rate: 0.003943\t0.095415\t\n",
      "[ Epoch 13 of 80 ]\n"
     ]
    },
    {
     "data": {
      "application/vnd.jupyter.widget-view+json": {
       "model_id": "",
       "version_major": 2,
       "version_minor": 0
      },
      "text/plain": [
       " - (Training) :   0%|          | 0/1000 [00:00<?, ?it/s]"
      ]
     },
     "metadata": {},
     "output_type": "display_data"
    },
    {
     "name": "stdout",
     "output_type": "stream",
     "text": [
      "- (Train)   bce:  0.3347, mse:  0.9602,  acc: 89.976 %, pearson: 0.703, spearman: 0.527, elapse: 94.947 s\n"
     ]
    },
    {
     "data": {
      "application/vnd.jupyter.widget-view+json": {
       "model_id": "",
       "version_major": 2,
       "version_minor": 0
      },
      "text/plain": [
       "  - (Validation)   :   0%|          | 0/10 [00:00<?, ?it/s]"
      ]
     },
     "metadata": {},
     "output_type": "display_data"
    },
    {
     "name": "stdout",
     "output_type": "stream",
     "text": [
      "- (Valid) bce:  0.3362,  acc: 89.837 %,pearson: 0.696, spearman: 0.526,elapse: 0.295 s\n",
      "update_rate: 0.003393\t0.073497\t\n",
      "[ Epoch 14 of 80 ]\n"
     ]
    },
    {
     "data": {
      "application/vnd.jupyter.widget-view+json": {
       "model_id": "",
       "version_major": 2,
       "version_minor": 0
      },
      "text/plain": [
       " - (Training) :   0%|          | 0/1000 [00:00<?, ?it/s]"
      ]
     },
     "metadata": {},
     "output_type": "display_data"
    },
    {
     "name": "stdout",
     "output_type": "stream",
     "text": [
      "- (Train)   bce:  0.3344, mse:  0.9605,  acc: 89.987 %, pearson: 0.704, spearman: 0.527, elapse: 94.769 s\n"
     ]
    },
    {
     "data": {
      "application/vnd.jupyter.widget-view+json": {
       "model_id": "",
       "version_major": 2,
       "version_minor": 0
      },
      "text/plain": [
       "  - (Validation)   :   0%|          | 0/10 [00:00<?, ?it/s]"
      ]
     },
     "metadata": {},
     "output_type": "display_data"
    },
    {
     "name": "stdout",
     "output_type": "stream",
     "text": [
      "- (Valid) bce:  0.3483,  acc: 89.471 %,pearson: 0.711, spearman: 0.507,elapse: 0.292 s\n",
      "update_rate: 0.002950\t0.095878\t\n",
      "[ Epoch 15 of 80 ]\n"
     ]
    },
    {
     "data": {
      "application/vnd.jupyter.widget-view+json": {
       "model_id": "",
       "version_major": 2,
       "version_minor": 0
      },
      "text/plain": [
       " - (Training) :   0%|          | 0/1000 [00:00<?, ?it/s]"
      ]
     },
     "metadata": {},
     "output_type": "display_data"
    },
    {
     "name": "stdout",
     "output_type": "stream",
     "text": [
      "- (Train)   bce:  0.3335, mse:  0.9571,  acc: 90.035 %, pearson: 0.708, spearman: 0.528, elapse: 95.031 s\n"
     ]
    },
    {
     "data": {
      "application/vnd.jupyter.widget-view+json": {
       "model_id": "",
       "version_major": 2,
       "version_minor": 0
      },
      "text/plain": [
       "  - (Validation)   :   0%|          | 0/10 [00:00<?, ?it/s]"
      ]
     },
     "metadata": {},
     "output_type": "display_data"
    },
    {
     "name": "stdout",
     "output_type": "stream",
     "text": [
      "- (Valid) bce:  0.3357,  acc: 89.811 %,pearson: 0.699, spearman: 0.528,elapse: 0.281 s\n",
      "update_rate: 0.002305\t0.105822\t\n",
      "[ Epoch 16 of 80 ]\n"
     ]
    },
    {
     "data": {
      "application/vnd.jupyter.widget-view+json": {
       "model_id": "",
       "version_major": 2,
       "version_minor": 0
      },
      "text/plain": [
       " - (Training) :   0%|          | 0/1000 [00:00<?, ?it/s]"
      ]
     },
     "metadata": {},
     "output_type": "display_data"
    },
    {
     "name": "stdout",
     "output_type": "stream",
     "text": [
      "- (Train)   bce:  0.3339, mse:  0.9578,  acc: 90.030 %, pearson: 0.710, spearman: 0.528, elapse: 95.036 s\n"
     ]
    },
    {
     "data": {
      "application/vnd.jupyter.widget-view+json": {
       "model_id": "",
       "version_major": 2,
       "version_minor": 0
      },
      "text/plain": [
       "  - (Validation)   :   0%|          | 0/10 [00:00<?, ?it/s]"
      ]
     },
     "metadata": {},
     "output_type": "display_data"
    },
    {
     "name": "stdout",
     "output_type": "stream",
     "text": [
      "- (Valid) bce:  0.3355,  acc: 89.850 %,pearson: 0.723, spearman: 0.526,elapse: 0.260 s\n",
      "update_rate: 0.002262\t0.053522\t\n",
      "[ Epoch 17 of 80 ]\n"
     ]
    },
    {
     "data": {
      "application/vnd.jupyter.widget-view+json": {
       "model_id": "",
       "version_major": 2,
       "version_minor": 0
      },
      "text/plain": [
       " - (Training) :   0%|          | 0/1000 [00:00<?, ?it/s]"
      ]
     },
     "metadata": {},
     "output_type": "display_data"
    },
    {
     "name": "stdout",
     "output_type": "stream",
     "text": [
      "- (Train)   bce:  0.3333, mse:  0.9581,  acc: 90.036 %, pearson: 0.712, spearman: 0.528, elapse: 94.898 s\n"
     ]
    },
    {
     "data": {
      "application/vnd.jupyter.widget-view+json": {
       "model_id": "",
       "version_major": 2,
       "version_minor": 0
      },
      "text/plain": [
       "  - (Validation)   :   0%|          | 0/10 [00:00<?, ?it/s]"
      ]
     },
     "metadata": {},
     "output_type": "display_data"
    },
    {
     "name": "stdout",
     "output_type": "stream",
     "text": [
      "- (Valid) bce:  0.3320,  acc: 89.996 %,pearson: 0.696, spearman: 0.531,elapse: 0.269 s\n",
      "update_rate: 0.002234\t0.066548\t\n",
      "[ Epoch 18 of 80 ]\n"
     ]
    },
    {
     "data": {
      "application/vnd.jupyter.widget-view+json": {
       "model_id": "",
       "version_major": 2,
       "version_minor": 0
      },
      "text/plain": [
       " - (Training) :   0%|          | 0/1000 [00:00<?, ?it/s]"
      ]
     },
     "metadata": {},
     "output_type": "display_data"
    },
    {
     "name": "stdout",
     "output_type": "stream",
     "text": [
      "- (Train)   bce:  0.3334, mse:  0.9580,  acc: 90.041 %, pearson: 0.709, spearman: 0.527, elapse: 94.115 s\n"
     ]
    },
    {
     "data": {
      "application/vnd.jupyter.widget-view+json": {
       "model_id": "",
       "version_major": 2,
       "version_minor": 0
      },
      "text/plain": [
       "  - (Validation)   :   0%|          | 0/10 [00:00<?, ?it/s]"
      ]
     },
     "metadata": {},
     "output_type": "display_data"
    },
    {
     "name": "stdout",
     "output_type": "stream",
     "text": [
      "- (Valid) bce:  0.3422,  acc: 89.646 %,pearson: 0.688, spearman: 0.517,elapse: 0.262 s\n",
      "update_rate: 0.001934\t0.047479\t\n",
      "[ Epoch 19 of 80 ]\n"
     ]
    },
    {
     "data": {
      "application/vnd.jupyter.widget-view+json": {
       "model_id": "",
       "version_major": 2,
       "version_minor": 0
      },
      "text/plain": [
       " - (Training) :   0%|          | 0/1000 [00:00<?, ?it/s]"
      ]
     },
     "metadata": {},
     "output_type": "display_data"
    },
    {
     "name": "stdout",
     "output_type": "stream",
     "text": [
      "- (Train)   bce:  0.3324, mse:  0.9562,  acc: 90.082 %, pearson: 0.713, spearman: 0.529, elapse: 95.451 s\n"
     ]
    },
    {
     "data": {
      "application/vnd.jupyter.widget-view+json": {
       "model_id": "",
       "version_major": 2,
       "version_minor": 0
      },
      "text/plain": [
       "  - (Validation)   :   0%|          | 0/10 [00:00<?, ?it/s]"
      ]
     },
     "metadata": {},
     "output_type": "display_data"
    },
    {
     "name": "stdout",
     "output_type": "stream",
     "text": [
      "- (Valid) bce:  0.3358,  acc: 90.067 %,pearson: 0.690, spearman: 0.524,elapse: 0.265 s\n",
      "update_rate: 0.002309\t0.079444\t\n",
      "[ Epoch 20 of 80 ]\n"
     ]
    },
    {
     "data": {
      "application/vnd.jupyter.widget-view+json": {
       "model_id": "",
       "version_major": 2,
       "version_minor": 0
      },
      "text/plain": [
       " - (Training) :   0%|          | 0/1000 [00:00<?, ?it/s]"
      ]
     },
     "metadata": {},
     "output_type": "display_data"
    },
    {
     "name": "stdout",
     "output_type": "stream",
     "text": [
      "- (Train)   bce:  0.3318, mse:  0.9558,  acc: 90.090 %, pearson: 0.713, spearman: 0.529, elapse: 95.824 s\n"
     ]
    },
    {
     "data": {
      "application/vnd.jupyter.widget-view+json": {
       "model_id": "",
       "version_major": 2,
       "version_minor": 0
      },
      "text/plain": [
       "  - (Validation)   :   0%|          | 0/10 [00:00<?, ?it/s]"
      ]
     },
     "metadata": {},
     "output_type": "display_data"
    },
    {
     "name": "stdout",
     "output_type": "stream",
     "text": [
      "- (Valid) bce:  0.3340,  acc: 90.064 %,pearson: 0.698, spearman: 0.528,elapse: 0.275 s\n",
      "update_rate: 0.002342\t0.058354\t\n",
      "[ Epoch 21 of 80 ]\n"
     ]
    },
    {
     "data": {
      "application/vnd.jupyter.widget-view+json": {
       "model_id": "",
       "version_major": 2,
       "version_minor": 0
      },
      "text/plain": [
       " - (Training) :   0%|          | 0/1000 [00:00<?, ?it/s]"
      ]
     },
     "metadata": {},
     "output_type": "display_data"
    },
    {
     "name": "stdout",
     "output_type": "stream",
     "text": [
      "- (Train)   bce:  0.3325, mse:  0.9563,  acc: 90.070 %, pearson: 0.713, spearman: 0.528, elapse: 95.985 s\n"
     ]
    },
    {
     "data": {
      "application/vnd.jupyter.widget-view+json": {
       "model_id": "",
       "version_major": 2,
       "version_minor": 0
      },
      "text/plain": [
       "  - (Validation)   :   0%|          | 0/10 [00:00<?, ?it/s]"
      ]
     },
     "metadata": {},
     "output_type": "display_data"
    },
    {
     "name": "stdout",
     "output_type": "stream",
     "text": [
      "- (Valid) bce:  0.3344,  acc: 89.848 %,pearson: 0.722, spearman: 0.529,elapse: 0.261 s\n",
      "update_rate: 0.001843\t0.048854\t\n",
      "[ Epoch 22 of 80 ]\n"
     ]
    },
    {
     "data": {
      "application/vnd.jupyter.widget-view+json": {
       "model_id": "",
       "version_major": 2,
       "version_minor": 0
      },
      "text/plain": [
       " - (Training) :   0%|          | 0/1000 [00:00<?, ?it/s]"
      ]
     },
     "metadata": {},
     "output_type": "display_data"
    },
    {
     "name": "stdout",
     "output_type": "stream",
     "text": [
      "- (Train)   bce:  0.3322, mse:  0.9552,  acc: 90.090 %, pearson: 0.718, spearman: 0.528, elapse: 95.440 s\n"
     ]
    },
    {
     "data": {
      "application/vnd.jupyter.widget-view+json": {
       "model_id": "",
       "version_major": 2,
       "version_minor": 0
      },
      "text/plain": [
       "  - (Validation)   :   0%|          | 0/10 [00:00<?, ?it/s]"
      ]
     },
     "metadata": {},
     "output_type": "display_data"
    },
    {
     "name": "stdout",
     "output_type": "stream",
     "text": [
      "- (Valid) bce:  0.3300,  acc: 89.981 %,pearson: 0.710, spearman: 0.533,elapse: 0.258 s\n",
      "update_rate: 0.002108\t0.041794\t\n",
      "[ Epoch 23 of 80 ]\n"
     ]
    },
    {
     "data": {
      "application/vnd.jupyter.widget-view+json": {
       "model_id": "",
       "version_major": 2,
       "version_minor": 0
      },
      "text/plain": [
       " - (Training) :   0%|          | 0/1000 [00:00<?, ?it/s]"
      ]
     },
     "metadata": {},
     "output_type": "display_data"
    },
    {
     "name": "stdout",
     "output_type": "stream",
     "text": [
      "- (Train)   bce:  0.3306, mse:  0.9552,  acc: 90.139 %, pearson: 0.719, spearman: 0.530, elapse: 95.604 s\n"
     ]
    },
    {
     "data": {
      "application/vnd.jupyter.widget-view+json": {
       "model_id": "",
       "version_major": 2,
       "version_minor": 0
      },
      "text/plain": [
       "  - (Validation)   :   0%|          | 0/10 [00:00<?, ?it/s]"
      ]
     },
     "metadata": {},
     "output_type": "display_data"
    },
    {
     "name": "stdout",
     "output_type": "stream",
     "text": [
      "- (Valid) bce:  0.3375,  acc: 89.904 %,pearson: 0.714, spearman: 0.524,elapse: 0.352 s\n",
      "update_rate: 0.001511\t0.043608\t\n",
      "[ Epoch 24 of 80 ]\n"
     ]
    },
    {
     "data": {
      "application/vnd.jupyter.widget-view+json": {
       "model_id": "",
       "version_major": 2,
       "version_minor": 0
      },
      "text/plain": [
       " - (Training) :   0%|          | 0/1000 [00:00<?, ?it/s]"
      ]
     },
     "metadata": {},
     "output_type": "display_data"
    },
    {
     "name": "stdout",
     "output_type": "stream",
     "text": [
      "- (Train)   bce:  0.3317, mse:  0.9549,  acc: 90.099 %, pearson: 0.716, spearman: 0.528, elapse: 96.319 s\n"
     ]
    },
    {
     "data": {
      "application/vnd.jupyter.widget-view+json": {
       "model_id": "",
       "version_major": 2,
       "version_minor": 0
      },
      "text/plain": [
       "  - (Validation)   :   0%|          | 0/10 [00:00<?, ?it/s]"
      ]
     },
     "metadata": {},
     "output_type": "display_data"
    },
    {
     "name": "stdout",
     "output_type": "stream",
     "text": [
      "- (Valid) bce:  0.3326,  acc: 90.063 %,pearson: 0.776, spearman: 0.529,elapse: 0.285 s\n",
      "update_rate: 0.001422\t0.050740\t\n",
      "[ Epoch 25 of 80 ]\n"
     ]
    },
    {
     "data": {
      "application/vnd.jupyter.widget-view+json": {
       "model_id": "",
       "version_major": 2,
       "version_minor": 0
      },
      "text/plain": [
       " - (Training) :   0%|          | 0/1000 [00:00<?, ?it/s]"
      ]
     },
     "metadata": {},
     "output_type": "display_data"
    },
    {
     "name": "stdout",
     "output_type": "stream",
     "text": [
      "- (Train)   bce:  0.3319, mse:  0.9554,  acc: 90.094 %, pearson: 0.720, spearman: 0.528, elapse: 95.645 s\n"
     ]
    },
    {
     "data": {
      "application/vnd.jupyter.widget-view+json": {
       "model_id": "",
       "version_major": 2,
       "version_minor": 0
      },
      "text/plain": [
       "  - (Validation)   :   0%|          | 0/10 [00:00<?, ?it/s]"
      ]
     },
     "metadata": {},
     "output_type": "display_data"
    },
    {
     "name": "stdout",
     "output_type": "stream",
     "text": [
      "- (Valid) bce:  0.3270,  acc: 90.243 %,pearson: 0.703, spearman: 0.537,elapse: 0.262 s\n",
      "update_rate: 0.001566\t0.040280\t\n",
      "[ Epoch 26 of 80 ]\n"
     ]
    },
    {
     "data": {
      "application/vnd.jupyter.widget-view+json": {
       "model_id": "",
       "version_major": 2,
       "version_minor": 0
      },
      "text/plain": [
       " - (Training) :   0%|          | 0/1000 [00:00<?, ?it/s]"
      ]
     },
     "metadata": {},
     "output_type": "display_data"
    },
    {
     "name": "stdout",
     "output_type": "stream",
     "text": [
      "- (Train)   bce:  0.3314, mse:  0.9547,  acc: 90.108 %, pearson: 0.719, spearman: 0.528, elapse: 94.883 s\n"
     ]
    },
    {
     "data": {
      "application/vnd.jupyter.widget-view+json": {
       "model_id": "",
       "version_major": 2,
       "version_minor": 0
      },
      "text/plain": [
       "  - (Validation)   :   0%|          | 0/10 [00:00<?, ?it/s]"
      ]
     },
     "metadata": {},
     "output_type": "display_data"
    },
    {
     "name": "stdout",
     "output_type": "stream",
     "text": [
      "- (Valid) bce:  0.3396,  acc: 89.839 %,pearson: 0.684, spearman: 0.519,elapse: 0.253 s\n",
      "update_rate: 0.001878\t0.050545\t\n",
      "[ Epoch 27 of 80 ]\n"
     ]
    },
    {
     "data": {
      "application/vnd.jupyter.widget-view+json": {
       "model_id": "",
       "version_major": 2,
       "version_minor": 0
      },
      "text/plain": [
       " - (Training) :   0%|          | 0/1000 [00:00<?, ?it/s]"
      ]
     },
     "metadata": {},
     "output_type": "display_data"
    },
    {
     "name": "stdout",
     "output_type": "stream",
     "text": [
      "- (Train)   bce:  0.3321, mse:  0.9549,  acc: 90.095 %, pearson: 0.718, spearman: 0.527, elapse: 94.179 s\n"
     ]
    },
    {
     "data": {
      "application/vnd.jupyter.widget-view+json": {
       "model_id": "",
       "version_major": 2,
       "version_minor": 0
      },
      "text/plain": [
       "  - (Validation)   :   0%|          | 0/10 [00:00<?, ?it/s]"
      ]
     },
     "metadata": {},
     "output_type": "display_data"
    },
    {
     "name": "stdout",
     "output_type": "stream",
     "text": [
      "- (Valid) bce:  0.3358,  acc: 89.798 %,pearson: 0.734, spearman: 0.523,elapse: 0.262 s\n",
      "update_rate: 0.002032\t0.053671\t\n",
      "[ Epoch 28 of 80 ]\n"
     ]
    },
    {
     "data": {
      "application/vnd.jupyter.widget-view+json": {
       "model_id": "",
       "version_major": 2,
       "version_minor": 0
      },
      "text/plain": [
       " - (Training) :   0%|          | 0/1000 [00:00<?, ?it/s]"
      ]
     },
     "metadata": {},
     "output_type": "display_data"
    },
    {
     "name": "stdout",
     "output_type": "stream",
     "text": [
      "- (Train)   bce:  0.3313, mse:  0.9553,  acc: 90.117 %, pearson: 0.719, spearman: 0.527, elapse: 96.451 s\n"
     ]
    },
    {
     "data": {
      "application/vnd.jupyter.widget-view+json": {
       "model_id": "",
       "version_major": 2,
       "version_minor": 0
      },
      "text/plain": [
       "  - (Validation)   :   0%|          | 0/10 [00:00<?, ?it/s]"
      ]
     },
     "metadata": {},
     "output_type": "display_data"
    },
    {
     "name": "stdout",
     "output_type": "stream",
     "text": [
      "- (Valid) bce:  0.3259,  acc: 90.290 %,pearson: 0.740, spearman: 0.532,elapse: 0.264 s\n",
      "update_rate: 0.001503\t0.047548\t\n",
      "[ Epoch 29 of 80 ]\n"
     ]
    },
    {
     "data": {
      "application/vnd.jupyter.widget-view+json": {
       "model_id": "",
       "version_major": 2,
       "version_minor": 0
      },
      "text/plain": [
       " - (Training) :   0%|          | 0/1000 [00:00<?, ?it/s]"
      ]
     },
     "metadata": {},
     "output_type": "display_data"
    },
    {
     "name": "stdout",
     "output_type": "stream",
     "text": [
      "- (Train)   bce:  0.3309, mse:  0.9539,  acc: 90.122 %, pearson: 0.724, spearman: 0.527, elapse: 95.336 s\n"
     ]
    },
    {
     "data": {
      "application/vnd.jupyter.widget-view+json": {
       "model_id": "",
       "version_major": 2,
       "version_minor": 0
      },
      "text/plain": [
       "  - (Validation)   :   0%|          | 0/10 [00:00<?, ?it/s]"
      ]
     },
     "metadata": {},
     "output_type": "display_data"
    },
    {
     "name": "stdout",
     "output_type": "stream",
     "text": [
      "- (Valid) bce:  0.3357,  acc: 89.956 %,pearson: 0.702, spearman: 0.523,elapse: 0.258 s\n",
      "update_rate: 0.001739\t0.038025\t\n",
      "[ Epoch 30 of 80 ]\n"
     ]
    },
    {
     "data": {
      "application/vnd.jupyter.widget-view+json": {
       "model_id": "",
       "version_major": 2,
       "version_minor": 0
      },
      "text/plain": [
       " - (Training) :   0%|          | 0/1000 [00:00<?, ?it/s]"
      ]
     },
     "metadata": {},
     "output_type": "display_data"
    },
    {
     "name": "stdout",
     "output_type": "stream",
     "text": [
      "- (Train)   bce:  0.3317, mse:  0.9540,  acc: 90.115 %, pearson: 0.721, spearman: 0.527, elapse: 95.617 s\n"
     ]
    },
    {
     "data": {
      "application/vnd.jupyter.widget-view+json": {
       "model_id": "",
       "version_major": 2,
       "version_minor": 0
      },
      "text/plain": [
       "  - (Validation)   :   0%|          | 0/10 [00:00<?, ?it/s]"
      ]
     },
     "metadata": {},
     "output_type": "display_data"
    },
    {
     "name": "stdout",
     "output_type": "stream",
     "text": [
      "- (Valid) bce:  0.3318,  acc: 90.062 %,pearson: 0.701, spearman: 0.528,elapse: 0.258 s\n",
      "update_rate: 0.001558\t0.035019\t\n",
      "[ Epoch 31 of 80 ]\n"
     ]
    },
    {
     "data": {
      "application/vnd.jupyter.widget-view+json": {
       "model_id": "",
       "version_major": 2,
       "version_minor": 0
      },
      "text/plain": [
       " - (Training) :   0%|          | 0/1000 [00:00<?, ?it/s]"
      ]
     },
     "metadata": {},
     "output_type": "display_data"
    },
    {
     "name": "stdout",
     "output_type": "stream",
     "text": [
      "- (Train)   bce:  0.3306, mse:  0.9539,  acc: 90.132 %, pearson: 0.721, spearman: 0.528, elapse: 95.573 s\n"
     ]
    },
    {
     "data": {
      "application/vnd.jupyter.widget-view+json": {
       "model_id": "",
       "version_major": 2,
       "version_minor": 0
      },
      "text/plain": [
       "  - (Validation)   :   0%|          | 0/10 [00:00<?, ?it/s]"
      ]
     },
     "metadata": {},
     "output_type": "display_data"
    },
    {
     "name": "stdout",
     "output_type": "stream",
     "text": [
      "- (Valid) bce:  0.3393,  acc: 89.936 %,pearson: 0.721, spearman: 0.521,elapse: 0.267 s\n",
      "update_rate: 0.001228\t0.036437\t\n",
      "[ Epoch 32 of 80 ]\n"
     ]
    },
    {
     "data": {
      "application/vnd.jupyter.widget-view+json": {
       "model_id": "",
       "version_major": 2,
       "version_minor": 0
      },
      "text/plain": [
       " - (Training) :   0%|          | 0/1000 [00:00<?, ?it/s]"
      ]
     },
     "metadata": {},
     "output_type": "display_data"
    },
    {
     "name": "stdout",
     "output_type": "stream",
     "text": [
      "- (Train)   bce:  0.3302, mse:  0.9548,  acc: 90.161 %, pearson: 0.725, spearman: 0.529, elapse: 95.482 s\n"
     ]
    },
    {
     "data": {
      "application/vnd.jupyter.widget-view+json": {
       "model_id": "",
       "version_major": 2,
       "version_minor": 0
      },
      "text/plain": [
       "  - (Validation)   :   0%|          | 0/10 [00:00<?, ?it/s]"
      ]
     },
     "metadata": {},
     "output_type": "display_data"
    },
    {
     "name": "stdout",
     "output_type": "stream",
     "text": [
      "- (Valid) bce:  0.3348,  acc: 89.895 %,pearson: 0.704, spearman: 0.524,elapse: 0.262 s\n",
      "update_rate: 0.001097\t0.075734\t\n",
      "[ Epoch 33 of 80 ]\n"
     ]
    },
    {
     "data": {
      "application/vnd.jupyter.widget-view+json": {
       "model_id": "",
       "version_major": 2,
       "version_minor": 0
      },
      "text/plain": [
       " - (Training) :   0%|          | 0/1000 [00:00<?, ?it/s]"
      ]
     },
     "metadata": {},
     "output_type": "display_data"
    },
    {
     "name": "stdout",
     "output_type": "stream",
     "text": [
      "- (Train)   bce:  0.3313, mse:  0.9543,  acc: 90.109 %, pearson: 0.720, spearman: 0.527, elapse: 95.912 s\n"
     ]
    },
    {
     "data": {
      "application/vnd.jupyter.widget-view+json": {
       "model_id": "",
       "version_major": 2,
       "version_minor": 0
      },
      "text/plain": [
       "  - (Validation)   :   0%|          | 0/10 [00:00<?, ?it/s]"
      ]
     },
     "metadata": {},
     "output_type": "display_data"
    },
    {
     "name": "stdout",
     "output_type": "stream",
     "text": [
      "- (Valid) bce:  0.3220,  acc: 90.491 %,pearson: 0.764, spearman: 0.532,elapse: 0.264 s\n",
      "update_rate: 0.001912\t0.044737\t\n",
      "[ Epoch 34 of 80 ]\n"
     ]
    },
    {
     "data": {
      "application/vnd.jupyter.widget-view+json": {
       "model_id": "",
       "version_major": 2,
       "version_minor": 0
      },
      "text/plain": [
       " - (Training) :   0%|          | 0/1000 [00:00<?, ?it/s]"
      ]
     },
     "metadata": {},
     "output_type": "display_data"
    },
    {
     "name": "stdout",
     "output_type": "stream",
     "text": [
      "- (Train)   bce:  0.3304, mse:  0.9533,  acc: 90.126 %, pearson: 0.720, spearman: 0.527, elapse: 95.296 s\n"
     ]
    },
    {
     "data": {
      "application/vnd.jupyter.widget-view+json": {
       "model_id": "",
       "version_major": 2,
       "version_minor": 0
      },
      "text/plain": [
       "  - (Validation)   :   0%|          | 0/10 [00:00<?, ?it/s]"
      ]
     },
     "metadata": {},
     "output_type": "display_data"
    },
    {
     "name": "stdout",
     "output_type": "stream",
     "text": [
      "- (Valid) bce:  0.3260,  acc: 90.268 %,pearson: 0.771, spearman: 0.534,elapse: 0.262 s\n",
      "update_rate: 0.001381\t0.030251\t\n",
      "[ Epoch 35 of 80 ]\n"
     ]
    },
    {
     "data": {
      "application/vnd.jupyter.widget-view+json": {
       "model_id": "",
       "version_major": 2,
       "version_minor": 0
      },
      "text/plain": [
       " - (Training) :   0%|          | 0/1000 [00:00<?, ?it/s]"
      ]
     },
     "metadata": {},
     "output_type": "display_data"
    },
    {
     "name": "stdout",
     "output_type": "stream",
     "text": [
      "- (Train)   bce:  0.3308, mse:  0.9534,  acc: 90.131 %, pearson: 0.721, spearman: 0.527, elapse: 95.609 s\n"
     ]
    },
    {
     "data": {
      "application/vnd.jupyter.widget-view+json": {
       "model_id": "",
       "version_major": 2,
       "version_minor": 0
      },
      "text/plain": [
       "  - (Validation)   :   0%|          | 0/10 [00:00<?, ?it/s]"
      ]
     },
     "metadata": {},
     "output_type": "display_data"
    },
    {
     "name": "stdout",
     "output_type": "stream",
     "text": [
      "- (Valid) bce:  0.3289,  acc: 90.159 %,pearson: 0.723, spearman: 0.532,elapse: 0.283 s\n",
      "update_rate: 0.001156\t0.040907\t\n",
      "[ Epoch 36 of 80 ]\n"
     ]
    },
    {
     "data": {
      "application/vnd.jupyter.widget-view+json": {
       "model_id": "",
       "version_major": 2,
       "version_minor": 0
      },
      "text/plain": [
       " - (Training) :   0%|          | 0/1000 [00:00<?, ?it/s]"
      ]
     },
     "metadata": {},
     "output_type": "display_data"
    },
    {
     "name": "stdout",
     "output_type": "stream",
     "text": [
      "- (Train)   bce:  0.3298, mse:  0.9531,  acc: 90.160 %, pearson: 0.724, spearman: 0.528, elapse: 95.597 s\n"
     ]
    },
    {
     "data": {
      "application/vnd.jupyter.widget-view+json": {
       "model_id": "",
       "version_major": 2,
       "version_minor": 0
      },
      "text/plain": [
       "  - (Validation)   :   0%|          | 0/10 [00:00<?, ?it/s]"
      ]
     },
     "metadata": {},
     "output_type": "display_data"
    },
    {
     "name": "stdout",
     "output_type": "stream",
     "text": [
      "- (Valid) bce:  0.3346,  acc: 90.060 %,pearson: 0.709, spearman: 0.525,elapse: 0.258 s\n",
      "update_rate: 0.001236\t0.029799\t\n",
      "[ Epoch 37 of 80 ]\n"
     ]
    },
    {
     "data": {
      "application/vnd.jupyter.widget-view+json": {
       "model_id": "",
       "version_major": 2,
       "version_minor": 0
      },
      "text/plain": [
       " - (Training) :   0%|          | 0/1000 [00:00<?, ?it/s]"
      ]
     },
     "metadata": {},
     "output_type": "display_data"
    },
    {
     "name": "stdout",
     "output_type": "stream",
     "text": [
      "- (Train)   bce:  0.3305, mse:  0.9537,  acc: 90.128 %, pearson: 0.725, spearman: 0.527, elapse: 96.150 s\n"
     ]
    },
    {
     "data": {
      "application/vnd.jupyter.widget-view+json": {
       "model_id": "",
       "version_major": 2,
       "version_minor": 0
      },
      "text/plain": [
       "  - (Validation)   :   0%|          | 0/10 [00:00<?, ?it/s]"
      ]
     },
     "metadata": {},
     "output_type": "display_data"
    },
    {
     "name": "stdout",
     "output_type": "stream",
     "text": [
      "- (Valid) bce:  0.3426,  acc: 89.698 %,pearson: 0.685, spearman: 0.512,elapse: 0.266 s\n",
      "update_rate: 0.001071\t0.037289\t\n",
      "[ Epoch 38 of 80 ]\n"
     ]
    },
    {
     "data": {
      "application/vnd.jupyter.widget-view+json": {
       "model_id": "",
       "version_major": 2,
       "version_minor": 0
      },
      "text/plain": [
       " - (Training) :   0%|          | 0/1000 [00:00<?, ?it/s]"
      ]
     },
     "metadata": {},
     "output_type": "display_data"
    },
    {
     "name": "stdout",
     "output_type": "stream",
     "text": [
      "- (Train)   bce:  0.3303, mse:  0.9551,  acc: 90.119 %, pearson: 0.723, spearman: 0.527, elapse: 95.697 s\n"
     ]
    },
    {
     "data": {
      "application/vnd.jupyter.widget-view+json": {
       "model_id": "",
       "version_major": 2,
       "version_minor": 0
      },
      "text/plain": [
       "  - (Validation)   :   0%|          | 0/10 [00:00<?, ?it/s]"
      ]
     },
     "metadata": {},
     "output_type": "display_data"
    },
    {
     "name": "stdout",
     "output_type": "stream",
     "text": [
      "- (Valid) bce:  0.3312,  acc: 90.104 %,pearson: 0.752, spearman: 0.528,elapse: 0.266 s\n",
      "update_rate: 0.001176\t0.042577\t\n",
      "[ Epoch 39 of 80 ]\n"
     ]
    },
    {
     "data": {
      "application/vnd.jupyter.widget-view+json": {
       "model_id": "",
       "version_major": 2,
       "version_minor": 0
      },
      "text/plain": [
       " - (Training) :   0%|          | 0/1000 [00:00<?, ?it/s]"
      ]
     },
     "metadata": {},
     "output_type": "display_data"
    },
    {
     "name": "stdout",
     "output_type": "stream",
     "text": [
      "- (Train)   bce:  0.3307, mse:  0.9534,  acc: 90.134 %, pearson: 0.722, spearman: 0.527, elapse: 95.803 s\n"
     ]
    },
    {
     "data": {
      "application/vnd.jupyter.widget-view+json": {
       "model_id": "",
       "version_major": 2,
       "version_minor": 0
      },
      "text/plain": [
       "  - (Validation)   :   0%|          | 0/10 [00:00<?, ?it/s]"
      ]
     },
     "metadata": {},
     "output_type": "display_data"
    },
    {
     "name": "stdout",
     "output_type": "stream",
     "text": [
      "- (Valid) bce:  0.3314,  acc: 90.082 %,pearson: 0.729, spearman: 0.525,elapse: 0.266 s\n",
      "update_rate: 0.001352\t0.039690\t\n",
      "[ Epoch 40 of 80 ]\n"
     ]
    },
    {
     "data": {
      "application/vnd.jupyter.widget-view+json": {
       "model_id": "",
       "version_major": 2,
       "version_minor": 0
      },
      "text/plain": [
       " - (Training) :   0%|          | 0/1000 [00:00<?, ?it/s]"
      ]
     },
     "metadata": {},
     "output_type": "display_data"
    },
    {
     "name": "stdout",
     "output_type": "stream",
     "text": [
      "- (Train)   bce:  0.3300, mse:  0.9540,  acc: 90.151 %, pearson: 0.724, spearman: 0.527, elapse: 96.547 s\n"
     ]
    },
    {
     "data": {
      "application/vnd.jupyter.widget-view+json": {
       "model_id": "",
       "version_major": 2,
       "version_minor": 0
      },
      "text/plain": [
       "  - (Validation)   :   0%|          | 0/10 [00:00<?, ?it/s]"
      ]
     },
     "metadata": {},
     "output_type": "display_data"
    },
    {
     "name": "stdout",
     "output_type": "stream",
     "text": [
      "- (Valid) bce:  0.3343,  acc: 89.996 %,pearson: 0.695, spearman: 0.525,elapse: 0.261 s\n",
      "update_rate: 0.000931\t0.029032\t\n",
      "[ Epoch 41 of 80 ]\n"
     ]
    },
    {
     "data": {
      "application/vnd.jupyter.widget-view+json": {
       "model_id": "",
       "version_major": 2,
       "version_minor": 0
      },
      "text/plain": [
       " - (Training) :   0%|          | 0/1000 [00:00<?, ?it/s]"
      ]
     },
     "metadata": {},
     "output_type": "display_data"
    },
    {
     "name": "stdout",
     "output_type": "stream",
     "text": [
      "- (Train)   bce:  0.3296, mse:  0.9530,  acc: 90.128 %, pearson: 0.726, spearman: 0.527, elapse: 96.028 s\n"
     ]
    },
    {
     "data": {
      "application/vnd.jupyter.widget-view+json": {
       "model_id": "",
       "version_major": 2,
       "version_minor": 0
      },
      "text/plain": [
       "  - (Validation)   :   0%|          | 0/10 [00:00<?, ?it/s]"
      ]
     },
     "metadata": {},
     "output_type": "display_data"
    },
    {
     "name": "stdout",
     "output_type": "stream",
     "text": [
      "- (Valid) bce:  0.3339,  acc: 89.935 %,pearson: 0.738, spearman: 0.524,elapse: 0.257 s\n",
      "update_rate: 0.001002\t0.035812\t\n",
      "[ Epoch 42 of 80 ]\n"
     ]
    },
    {
     "data": {
      "application/vnd.jupyter.widget-view+json": {
       "model_id": "",
       "version_major": 2,
       "version_minor": 0
      },
      "text/plain": [
       " - (Training) :   0%|          | 0/1000 [00:00<?, ?it/s]"
      ]
     },
     "metadata": {},
     "output_type": "display_data"
    },
    {
     "name": "stdout",
     "output_type": "stream",
     "text": [
      "- (Train)   bce:  0.3294, mse:  0.9534,  acc: 90.162 %, pearson: 0.724, spearman: 0.527, elapse: 96.579 s\n"
     ]
    },
    {
     "data": {
      "application/vnd.jupyter.widget-view+json": {
       "model_id": "",
       "version_major": 2,
       "version_minor": 0
      },
      "text/plain": [
       "  - (Validation)   :   0%|          | 0/10 [00:00<?, ?it/s]"
      ]
     },
     "metadata": {},
     "output_type": "display_data"
    },
    {
     "name": "stdout",
     "output_type": "stream",
     "text": [
      "- (Valid) bce:  0.3404,  acc: 89.713 %,pearson: 0.734, spearman: 0.515,elapse: 0.266 s\n",
      "update_rate: 0.001158\t0.029915\t\n",
      "[ Epoch 43 of 80 ]\n"
     ]
    },
    {
     "data": {
      "application/vnd.jupyter.widget-view+json": {
       "model_id": "",
       "version_major": 2,
       "version_minor": 0
      },
      "text/plain": [
       " - (Training) :   0%|          | 0/1000 [00:00<?, ?it/s]"
      ]
     },
     "metadata": {},
     "output_type": "display_data"
    },
    {
     "name": "stdout",
     "output_type": "stream",
     "text": [
      "- (Train)   bce:  0.3294, mse:  0.9530,  acc: 90.153 %, pearson: 0.725, spearman: 0.527, elapse: 95.282 s\n"
     ]
    },
    {
     "data": {
      "application/vnd.jupyter.widget-view+json": {
       "model_id": "",
       "version_major": 2,
       "version_minor": 0
      },
      "text/plain": [
       "  - (Validation)   :   0%|          | 0/10 [00:00<?, ?it/s]"
      ]
     },
     "metadata": {},
     "output_type": "display_data"
    },
    {
     "name": "stdout",
     "output_type": "stream",
     "text": [
      "- (Valid) bce:  0.3323,  acc: 89.940 %,pearson: 0.724, spearman: 0.524,elapse: 0.259 s\n",
      "update_rate: 0.000813\t0.022173\t\n",
      "[ Epoch 44 of 80 ]\n"
     ]
    },
    {
     "data": {
      "application/vnd.jupyter.widget-view+json": {
       "model_id": "",
       "version_major": 2,
       "version_minor": 0
      },
      "text/plain": [
       " - (Training) :   0%|          | 0/1000 [00:00<?, ?it/s]"
      ]
     },
     "metadata": {},
     "output_type": "display_data"
    },
    {
     "name": "stdout",
     "output_type": "stream",
     "text": [
      "- (Train)   bce:  0.3305, mse:  0.9531,  acc: 90.126 %, pearson: 0.724, spearman: 0.526, elapse: 94.964 s\n"
     ]
    },
    {
     "data": {
      "application/vnd.jupyter.widget-view+json": {
       "model_id": "",
       "version_major": 2,
       "version_minor": 0
      },
      "text/plain": [
       "  - (Validation)   :   0%|          | 0/10 [00:00<?, ?it/s]"
      ]
     },
     "metadata": {},
     "output_type": "display_data"
    },
    {
     "name": "stdout",
     "output_type": "stream",
     "text": [
      "- (Valid) bce:  0.3383,  acc: 89.832 %,pearson: 0.694, spearman: 0.518,elapse: 0.264 s\n",
      "update_rate: 0.000904\t0.034675\t\n",
      "[ Epoch 45 of 80 ]\n"
     ]
    },
    {
     "data": {
      "application/vnd.jupyter.widget-view+json": {
       "model_id": "",
       "version_major": 2,
       "version_minor": 0
      },
      "text/plain": [
       " - (Training) :   0%|          | 0/1000 [00:00<?, ?it/s]"
      ]
     },
     "metadata": {},
     "output_type": "display_data"
    },
    {
     "name": "stdout",
     "output_type": "stream",
     "text": [
      "- (Train)   bce:  0.3293, mse:  0.9530,  acc: 90.186 %, pearson: 0.727, spearman: 0.528, elapse: 95.455 s\n"
     ]
    },
    {
     "data": {
      "application/vnd.jupyter.widget-view+json": {
       "model_id": "",
       "version_major": 2,
       "version_minor": 0
      },
      "text/plain": [
       "  - (Validation)   :   0%|          | 0/10 [00:00<?, ?it/s]"
      ]
     },
     "metadata": {},
     "output_type": "display_data"
    },
    {
     "name": "stdout",
     "output_type": "stream",
     "text": [
      "- (Valid) bce:  0.3270,  acc: 90.181 %,pearson: 0.698, spearman: 0.527,elapse: 0.263 s\n",
      "update_rate: 0.001007\t0.029063\t\n",
      "[ Epoch 46 of 80 ]\n"
     ]
    },
    {
     "data": {
      "application/vnd.jupyter.widget-view+json": {
       "model_id": "",
       "version_major": 2,
       "version_minor": 0
      },
      "text/plain": [
       " - (Training) :   0%|          | 0/1000 [00:00<?, ?it/s]"
      ]
     },
     "metadata": {},
     "output_type": "display_data"
    },
    {
     "name": "stdout",
     "output_type": "stream",
     "text": [
      "- (Train)   bce:  0.3294, mse:  0.9529,  acc: 90.134 %, pearson: 0.726, spearman: 0.527, elapse: 94.601 s\n"
     ]
    },
    {
     "data": {
      "application/vnd.jupyter.widget-view+json": {
       "model_id": "",
       "version_major": 2,
       "version_minor": 0
      },
      "text/plain": [
       "  - (Validation)   :   0%|          | 0/10 [00:00<?, ?it/s]"
      ]
     },
     "metadata": {},
     "output_type": "display_data"
    },
    {
     "name": "stdout",
     "output_type": "stream",
     "text": [
      "- (Valid) bce:  0.3270,  acc: 90.212 %,pearson: 0.748, spearman: 0.530,elapse: 0.263 s\n",
      "update_rate: 0.001264\t0.024716\t\n",
      "[ Epoch 47 of 80 ]\n"
     ]
    },
    {
     "data": {
      "application/vnd.jupyter.widget-view+json": {
       "model_id": "",
       "version_major": 2,
       "version_minor": 0
      },
      "text/plain": [
       " - (Training) :   0%|          | 0/1000 [00:00<?, ?it/s]"
      ]
     },
     "metadata": {},
     "output_type": "display_data"
    },
    {
     "name": "stdout",
     "output_type": "stream",
     "text": [
      "- (Train)   bce:  0.3293, mse:  0.9535,  acc: 90.144 %, pearson: 0.725, spearman: 0.527, elapse: 95.505 s\n"
     ]
    },
    {
     "data": {
      "application/vnd.jupyter.widget-view+json": {
       "model_id": "",
       "version_major": 2,
       "version_minor": 0
      },
      "text/plain": [
       "  - (Validation)   :   0%|          | 0/10 [00:00<?, ?it/s]"
      ]
     },
     "metadata": {},
     "output_type": "display_data"
    },
    {
     "name": "stdout",
     "output_type": "stream",
     "text": [
      "- (Valid) bce:  0.3332,  acc: 89.834 %,pearson: 0.713, spearman: 0.519,elapse: 0.283 s\n",
      "update_rate: 0.000960\t0.032862\t\n",
      "[ Epoch 48 of 80 ]\n"
     ]
    },
    {
     "data": {
      "application/vnd.jupyter.widget-view+json": {
       "model_id": "",
       "version_major": 2,
       "version_minor": 0
      },
      "text/plain": [
       " - (Training) :   0%|          | 0/1000 [00:00<?, ?it/s]"
      ]
     },
     "metadata": {},
     "output_type": "display_data"
    },
    {
     "name": "stdout",
     "output_type": "stream",
     "text": [
      "- (Train)   bce:  0.3300, mse:  0.9550,  acc: 90.140 %, pearson: 0.726, spearman: 0.527, elapse: 95.268 s\n"
     ]
    },
    {
     "data": {
      "application/vnd.jupyter.widget-view+json": {
       "model_id": "",
       "version_major": 2,
       "version_minor": 0
      },
      "text/plain": [
       "  - (Validation)   :   0%|          | 0/10 [00:00<?, ?it/s]"
      ]
     },
     "metadata": {},
     "output_type": "display_data"
    },
    {
     "name": "stdout",
     "output_type": "stream",
     "text": [
      "- (Valid) bce:  0.3343,  acc: 90.013 %,pearson: 0.709, spearman: 0.520,elapse: 0.311 s\n",
      "update_rate: 0.000971\t0.022034\t\n",
      "[ Epoch 49 of 80 ]\n"
     ]
    },
    {
     "data": {
      "application/vnd.jupyter.widget-view+json": {
       "model_id": "",
       "version_major": 2,
       "version_minor": 0
      },
      "text/plain": [
       " - (Training) :   0%|          | 0/1000 [00:00<?, ?it/s]"
      ]
     },
     "metadata": {},
     "output_type": "display_data"
    },
    {
     "name": "stdout",
     "output_type": "stream",
     "text": [
      "- (Train)   bce:  0.3292, mse:  0.9542,  acc: 90.140 %, pearson: 0.727, spearman: 0.526, elapse: 95.335 s\n"
     ]
    },
    {
     "data": {
      "application/vnd.jupyter.widget-view+json": {
       "model_id": "",
       "version_major": 2,
       "version_minor": 0
      },
      "text/plain": [
       "  - (Validation)   :   0%|          | 0/10 [00:00<?, ?it/s]"
      ]
     },
     "metadata": {},
     "output_type": "display_data"
    },
    {
     "name": "stdout",
     "output_type": "stream",
     "text": [
      "- (Valid) bce:  0.3207,  acc: 90.352 %,pearson: 0.708, spearman: 0.533,elapse: 0.259 s\n",
      "update_rate: 0.000920\t0.025450\t\n",
      "[ Epoch 50 of 80 ]\n"
     ]
    },
    {
     "data": {
      "application/vnd.jupyter.widget-view+json": {
       "model_id": "",
       "version_major": 2,
       "version_minor": 0
      },
      "text/plain": [
       " - (Training) :   0%|          | 0/1000 [00:00<?, ?it/s]"
      ]
     },
     "metadata": {},
     "output_type": "display_data"
    },
    {
     "name": "stdout",
     "output_type": "stream",
     "text": [
      "- (Train)   bce:  0.3294, mse:  0.9534,  acc: 90.144 %, pearson: 0.724, spearman: 0.526, elapse: 95.170 s\n"
     ]
    },
    {
     "data": {
      "application/vnd.jupyter.widget-view+json": {
       "model_id": "",
       "version_major": 2,
       "version_minor": 0
      },
      "text/plain": [
       "  - (Validation)   :   0%|          | 0/10 [00:00<?, ?it/s]"
      ]
     },
     "metadata": {},
     "output_type": "display_data"
    },
    {
     "name": "stdout",
     "output_type": "stream",
     "text": [
      "- (Valid) bce:  0.3295,  acc: 90.127 %,pearson: 0.725, spearman: 0.522,elapse: 0.285 s\n",
      "update_rate: 0.000827\t0.028155\t\n",
      "[ Epoch 51 of 80 ]\n"
     ]
    },
    {
     "data": {
      "application/vnd.jupyter.widget-view+json": {
       "model_id": "",
       "version_major": 2,
       "version_minor": 0
      },
      "text/plain": [
       " - (Training) :   0%|          | 0/1000 [00:00<?, ?it/s]"
      ]
     },
     "metadata": {},
     "output_type": "display_data"
    },
    {
     "name": "stdout",
     "output_type": "stream",
     "text": [
      "- (Train)   bce:  0.3288, mse:  0.9537,  acc: 90.152 %, pearson: 0.729, spearman: 0.526, elapse: 95.095 s\n"
     ]
    },
    {
     "data": {
      "application/vnd.jupyter.widget-view+json": {
       "model_id": "",
       "version_major": 2,
       "version_minor": 0
      },
      "text/plain": [
       "  - (Validation)   :   0%|          | 0/10 [00:00<?, ?it/s]"
      ]
     },
     "metadata": {},
     "output_type": "display_data"
    },
    {
     "name": "stdout",
     "output_type": "stream",
     "text": [
      "- (Valid) bce:  0.3301,  acc: 90.094 %,pearson: 0.695, spearman: 0.525,elapse: 0.256 s\n",
      "update_rate: 0.000751\t0.026960\t\n",
      "[ Epoch 52 of 80 ]\n"
     ]
    },
    {
     "data": {
      "application/vnd.jupyter.widget-view+json": {
       "model_id": "",
       "version_major": 2,
       "version_minor": 0
      },
      "text/plain": [
       " - (Training) :   0%|          | 0/1000 [00:00<?, ?it/s]"
      ]
     },
     "metadata": {},
     "output_type": "display_data"
    },
    {
     "name": "stdout",
     "output_type": "stream",
     "text": [
      "- (Train)   bce:  0.3290, mse:  0.9532,  acc: 90.164 %, pearson: 0.725, spearman: 0.527, elapse: 95.888 s\n"
     ]
    },
    {
     "data": {
      "application/vnd.jupyter.widget-view+json": {
       "model_id": "",
       "version_major": 2,
       "version_minor": 0
      },
      "text/plain": [
       "  - (Validation)   :   0%|          | 0/10 [00:00<?, ?it/s]"
      ]
     },
     "metadata": {},
     "output_type": "display_data"
    },
    {
     "name": "stdout",
     "output_type": "stream",
     "text": [
      "- (Valid) bce:  0.3240,  acc: 90.160 %,pearson: 0.707, spearman: 0.530,elapse: 0.260 s\n",
      "update_rate: 0.000972\t0.035934\t\n",
      "[ Epoch 53 of 80 ]\n"
     ]
    },
    {
     "data": {
      "application/vnd.jupyter.widget-view+json": {
       "model_id": "",
       "version_major": 2,
       "version_minor": 0
      },
      "text/plain": [
       " - (Training) :   0%|          | 0/1000 [00:00<?, ?it/s]"
      ]
     },
     "metadata": {},
     "output_type": "display_data"
    },
    {
     "name": "stdout",
     "output_type": "stream",
     "text": [
      "- (Train)   bce:  0.3283, mse:  0.9532,  acc: 90.168 %, pearson: 0.730, spearman: 0.528, elapse: 95.325 s\n"
     ]
    },
    {
     "data": {
      "application/vnd.jupyter.widget-view+json": {
       "model_id": "",
       "version_major": 2,
       "version_minor": 0
      },
      "text/plain": [
       "  - (Validation)   :   0%|          | 0/10 [00:00<?, ?it/s]"
      ]
     },
     "metadata": {},
     "output_type": "display_data"
    },
    {
     "name": "stdout",
     "output_type": "stream",
     "text": [
      "- (Valid) bce:  0.3371,  acc: 89.949 %,pearson: 0.696, spearman: 0.520,elapse: 0.264 s\n",
      "update_rate: 0.000991\t0.019240\t\n",
      "[ Epoch 54 of 80 ]\n"
     ]
    },
    {
     "data": {
      "application/vnd.jupyter.widget-view+json": {
       "model_id": "",
       "version_major": 2,
       "version_minor": 0
      },
      "text/plain": [
       " - (Training) :   0%|          | 0/1000 [00:00<?, ?it/s]"
      ]
     },
     "metadata": {},
     "output_type": "display_data"
    },
    {
     "name": "stdout",
     "output_type": "stream",
     "text": [
      "- (Train)   bce:  0.3290, mse:  0.9539,  acc: 90.172 %, pearson: 0.726, spearman: 0.528, elapse: 95.742 s\n"
     ]
    },
    {
     "data": {
      "application/vnd.jupyter.widget-view+json": {
       "model_id": "",
       "version_major": 2,
       "version_minor": 0
      },
      "text/plain": [
       "  - (Validation)   :   0%|          | 0/10 [00:00<?, ?it/s]"
      ]
     },
     "metadata": {},
     "output_type": "display_data"
    },
    {
     "name": "stdout",
     "output_type": "stream",
     "text": [
      "- (Valid) bce:  0.3313,  acc: 90.144 %,pearson: 0.777, spearman: 0.523,elapse: 0.259 s\n",
      "update_rate: 0.000882\t0.023413\t\n",
      "[ Epoch 55 of 80 ]\n"
     ]
    },
    {
     "data": {
      "application/vnd.jupyter.widget-view+json": {
       "model_id": "",
       "version_major": 2,
       "version_minor": 0
      },
      "text/plain": [
       " - (Training) :   0%|          | 0/1000 [00:00<?, ?it/s]"
      ]
     },
     "metadata": {},
     "output_type": "display_data"
    },
    {
     "name": "stdout",
     "output_type": "stream",
     "text": [
      "- (Train)   bce:  0.3281, mse:  0.9536,  acc: 90.201 %, pearson: 0.727, spearman: 0.528, elapse: 95.235 s\n"
     ]
    },
    {
     "data": {
      "application/vnd.jupyter.widget-view+json": {
       "model_id": "",
       "version_major": 2,
       "version_minor": 0
      },
      "text/plain": [
       "  - (Validation)   :   0%|          | 0/10 [00:00<?, ?it/s]"
      ]
     },
     "metadata": {},
     "output_type": "display_data"
    },
    {
     "name": "stdout",
     "output_type": "stream",
     "text": [
      "- (Valid) bce:  0.3366,  acc: 89.887 %,pearson: 0.721, spearman: 0.521,elapse: 0.263 s\n",
      "update_rate: 0.000881\t0.030947\t\n",
      "[ Epoch 56 of 80 ]\n"
     ]
    },
    {
     "data": {
      "application/vnd.jupyter.widget-view+json": {
       "model_id": "",
       "version_major": 2,
       "version_minor": 0
      },
      "text/plain": [
       " - (Training) :   0%|          | 0/1000 [00:00<?, ?it/s]"
      ]
     },
     "metadata": {},
     "output_type": "display_data"
    },
    {
     "name": "stdout",
     "output_type": "stream",
     "text": [
      "- (Train)   bce:  0.3291, mse:  0.9534,  acc: 90.150 %, pearson: 0.731, spearman: 0.526, elapse: 95.181 s\n"
     ]
    },
    {
     "data": {
      "application/vnd.jupyter.widget-view+json": {
       "model_id": "",
       "version_major": 2,
       "version_minor": 0
      },
      "text/plain": [
       "  - (Validation)   :   0%|          | 0/10 [00:00<?, ?it/s]"
      ]
     },
     "metadata": {},
     "output_type": "display_data"
    },
    {
     "name": "stdout",
     "output_type": "stream",
     "text": [
      "- (Valid) bce:  0.3298,  acc: 89.882 %,pearson: 0.698, spearman: 0.521,elapse: 0.264 s\n",
      "update_rate: 0.000933\t0.024978\t\n",
      "[ Epoch 57 of 80 ]\n"
     ]
    },
    {
     "data": {
      "application/vnd.jupyter.widget-view+json": {
       "model_id": "",
       "version_major": 2,
       "version_minor": 0
      },
      "text/plain": [
       " - (Training) :   0%|          | 0/1000 [00:00<?, ?it/s]"
      ]
     },
     "metadata": {},
     "output_type": "display_data"
    },
    {
     "name": "stdout",
     "output_type": "stream",
     "text": [
      "- (Train)   bce:  0.3282, mse:  0.9527,  acc: 90.183 %, pearson: 0.729, spearman: 0.528, elapse: 95.767 s\n"
     ]
    },
    {
     "data": {
      "application/vnd.jupyter.widget-view+json": {
       "model_id": "",
       "version_major": 2,
       "version_minor": 0
      },
      "text/plain": [
       "  - (Validation)   :   0%|          | 0/10 [00:00<?, ?it/s]"
      ]
     },
     "metadata": {},
     "output_type": "display_data"
    },
    {
     "name": "stdout",
     "output_type": "stream",
     "text": [
      "- (Valid) bce:  0.3333,  acc: 89.829 %,pearson: 0.721, spearman: 0.521,elapse: 0.261 s\n",
      "update_rate: 0.001179\t0.019270\t\n",
      "[ Epoch 58 of 80 ]\n"
     ]
    },
    {
     "data": {
      "application/vnd.jupyter.widget-view+json": {
       "model_id": "",
       "version_major": 2,
       "version_minor": 0
      },
      "text/plain": [
       " - (Training) :   0%|          | 0/1000 [00:00<?, ?it/s]"
      ]
     },
     "metadata": {},
     "output_type": "display_data"
    },
    {
     "name": "stdout",
     "output_type": "stream",
     "text": [
      "- (Train)   bce:  0.3285, mse:  0.9617,  acc: 90.184 %, pearson: 0.730, spearman: 0.527, elapse: 95.669 s\n"
     ]
    },
    {
     "data": {
      "application/vnd.jupyter.widget-view+json": {
       "model_id": "",
       "version_major": 2,
       "version_minor": 0
      },
      "text/plain": [
       "  - (Validation)   :   0%|          | 0/10 [00:00<?, ?it/s]"
      ]
     },
     "metadata": {},
     "output_type": "display_data"
    },
    {
     "name": "stdout",
     "output_type": "stream",
     "text": [
      "- (Valid) bce:  0.3393,  acc: 89.670 %,pearson: 0.732, spearman: 0.515,elapse: 0.259 s\n",
      "update_rate: 0.000898\t0.026274\t\n",
      "[ Epoch 59 of 80 ]\n"
     ]
    },
    {
     "data": {
      "application/vnd.jupyter.widget-view+json": {
       "model_id": "",
       "version_major": 2,
       "version_minor": 0
      },
      "text/plain": [
       " - (Training) :   0%|          | 0/1000 [00:00<?, ?it/s]"
      ]
     },
     "metadata": {},
     "output_type": "display_data"
    },
    {
     "name": "stdout",
     "output_type": "stream",
     "text": [
      "- (Train)   bce:  0.3291, mse:  0.9543,  acc: 90.142 %, pearson: 0.724, spearman: 0.526, elapse: 95.101 s\n"
     ]
    },
    {
     "data": {
      "application/vnd.jupyter.widget-view+json": {
       "model_id": "",
       "version_major": 2,
       "version_minor": 0
      },
      "text/plain": [
       "  - (Validation)   :   0%|          | 0/10 [00:00<?, ?it/s]"
      ]
     },
     "metadata": {},
     "output_type": "display_data"
    },
    {
     "name": "stdout",
     "output_type": "stream",
     "text": [
      "- (Valid) bce:  0.3280,  acc: 90.018 %,pearson: 0.725, spearman: 0.524,elapse: 0.265 s\n",
      "update_rate: 0.001075\t0.022606\t\n",
      "[ Epoch 60 of 80 ]\n"
     ]
    },
    {
     "data": {
      "application/vnd.jupyter.widget-view+json": {
       "model_id": "",
       "version_major": 2,
       "version_minor": 0
      },
      "text/plain": [
       " - (Training) :   0%|          | 0/1000 [00:00<?, ?it/s]"
      ]
     },
     "metadata": {},
     "output_type": "display_data"
    },
    {
     "name": "stdout",
     "output_type": "stream",
     "text": [
      "- (Train)   bce:  0.3284, mse:  0.9721,  acc: 90.170 %, pearson: 0.731, spearman: 0.527, elapse: 95.249 s\n"
     ]
    },
    {
     "data": {
      "application/vnd.jupyter.widget-view+json": {
       "model_id": "",
       "version_major": 2,
       "version_minor": 0
      },
      "text/plain": [
       "  - (Validation)   :   0%|          | 0/10 [00:00<?, ?it/s]"
      ]
     },
     "metadata": {},
     "output_type": "display_data"
    },
    {
     "name": "stdout",
     "output_type": "stream",
     "text": [
      "- (Valid) bce:  0.3335,  acc: 90.048 %,pearson: 0.735, spearman: 0.522,elapse: 0.264 s\n",
      "update_rate: 0.000799\t0.032418\t\n",
      "[ Epoch 61 of 80 ]\n"
     ]
    },
    {
     "data": {
      "application/vnd.jupyter.widget-view+json": {
       "model_id": "",
       "version_major": 2,
       "version_minor": 0
      },
      "text/plain": [
       " - (Training) :   0%|          | 0/1000 [00:00<?, ?it/s]"
      ]
     },
     "metadata": {},
     "output_type": "display_data"
    },
    {
     "name": "stdout",
     "output_type": "stream",
     "text": [
      "- (Train)   bce:  0.3289, mse:  0.9537,  acc: 90.143 %, pearson: 0.726, spearman: 0.526, elapse: 95.477 s\n"
     ]
    },
    {
     "data": {
      "application/vnd.jupyter.widget-view+json": {
       "model_id": "",
       "version_major": 2,
       "version_minor": 0
      },
      "text/plain": [
       "  - (Validation)   :   0%|          | 0/10 [00:00<?, ?it/s]"
      ]
     },
     "metadata": {},
     "output_type": "display_data"
    },
    {
     "name": "stdout",
     "output_type": "stream",
     "text": [
      "- (Valid) bce:  0.3297,  acc: 90.005 %,pearson: 0.719, spearman: 0.524,elapse: 0.270 s\n",
      "update_rate: 0.000855\t0.014153\t\n",
      "[ Epoch 62 of 80 ]\n"
     ]
    },
    {
     "data": {
      "application/vnd.jupyter.widget-view+json": {
       "model_id": "",
       "version_major": 2,
       "version_minor": 0
      },
      "text/plain": [
       " - (Training) :   0%|          | 0/1000 [00:00<?, ?it/s]"
      ]
     },
     "metadata": {},
     "output_type": "display_data"
    },
    {
     "name": "stdout",
     "output_type": "stream",
     "text": [
      "- (Train)   bce:  0.3285, mse:  0.9549,  acc: 90.153 %, pearson: 0.728, spearman: 0.526, elapse: 95.898 s\n"
     ]
    },
    {
     "data": {
      "application/vnd.jupyter.widget-view+json": {
       "model_id": "",
       "version_major": 2,
       "version_minor": 0
      },
      "text/plain": [
       "  - (Validation)   :   0%|          | 0/10 [00:00<?, ?it/s]"
      ]
     },
     "metadata": {},
     "output_type": "display_data"
    },
    {
     "name": "stdout",
     "output_type": "stream",
     "text": [
      "- (Valid) bce:  0.3334,  acc: 90.005 %,pearson: 0.709, spearman: 0.520,elapse: 0.286 s\n",
      "update_rate: 0.000924\t0.018809\t\n",
      "[ Epoch 63 of 80 ]\n"
     ]
    },
    {
     "data": {
      "application/vnd.jupyter.widget-view+json": {
       "model_id": "",
       "version_major": 2,
       "version_minor": 0
      },
      "text/plain": [
       " - (Training) :   0%|          | 0/1000 [00:00<?, ?it/s]"
      ]
     },
     "metadata": {},
     "output_type": "display_data"
    },
    {
     "name": "stdout",
     "output_type": "stream",
     "text": [
      "- (Train)   bce:  0.3273, mse:  0.9544,  acc: 90.199 %, pearson: 0.730, spearman: 0.527, elapse: 95.843 s\n"
     ]
    },
    {
     "data": {
      "application/vnd.jupyter.widget-view+json": {
       "model_id": "",
       "version_major": 2,
       "version_minor": 0
      },
      "text/plain": [
       "  - (Validation)   :   0%|          | 0/10 [00:00<?, ?it/s]"
      ]
     },
     "metadata": {},
     "output_type": "display_data"
    },
    {
     "name": "stdout",
     "output_type": "stream",
     "text": [
      "- (Valid) bce:  0.3323,  acc: 89.913 %,pearson: 0.714, spearman: 0.522,elapse: 0.285 s\n",
      "update_rate: 0.000732\t0.017411\t\n",
      "[ Epoch 64 of 80 ]\n"
     ]
    },
    {
     "data": {
      "application/vnd.jupyter.widget-view+json": {
       "model_id": "",
       "version_major": 2,
       "version_minor": 0
      },
      "text/plain": [
       " - (Training) :   0%|          | 0/1000 [00:00<?, ?it/s]"
      ]
     },
     "metadata": {},
     "output_type": "display_data"
    },
    {
     "name": "stdout",
     "output_type": "stream",
     "text": [
      "- (Train)   bce:  0.3291, mse:  0.9535,  acc: 90.143 %, pearson: 0.723, spearman: 0.526, elapse: 95.758 s\n"
     ]
    },
    {
     "data": {
      "application/vnd.jupyter.widget-view+json": {
       "model_id": "",
       "version_major": 2,
       "version_minor": 0
      },
      "text/plain": [
       "  - (Validation)   :   0%|          | 0/10 [00:00<?, ?it/s]"
      ]
     },
     "metadata": {},
     "output_type": "display_data"
    },
    {
     "name": "stdout",
     "output_type": "stream",
     "text": [
      "- (Valid) bce:  0.3404,  acc: 89.915 %,pearson: 0.700, spearman: 0.515,elapse: 0.264 s\n",
      "update_rate: 0.000978\t0.018692\t\n",
      "[ Epoch 65 of 80 ]\n"
     ]
    },
    {
     "data": {
      "application/vnd.jupyter.widget-view+json": {
       "model_id": "",
       "version_major": 2,
       "version_minor": 0
      },
      "text/plain": [
       " - (Training) :   0%|          | 0/1000 [00:00<?, ?it/s]"
      ]
     },
     "metadata": {},
     "output_type": "display_data"
    },
    {
     "name": "stdout",
     "output_type": "stream",
     "text": [
      "- (Train)   bce:  0.3284, mse:  0.9542,  acc: 90.173 %, pearson: 0.731, spearman: 0.526, elapse: 95.545 s\n"
     ]
    },
    {
     "data": {
      "application/vnd.jupyter.widget-view+json": {
       "model_id": "",
       "version_major": 2,
       "version_minor": 0
      },
      "text/plain": [
       "  - (Validation)   :   0%|          | 0/10 [00:00<?, ?it/s]"
      ]
     },
     "metadata": {},
     "output_type": "display_data"
    },
    {
     "name": "stdout",
     "output_type": "stream",
     "text": [
      "- (Valid) bce:  0.3253,  acc: 90.125 %,pearson: 0.753, spearman: 0.525,elapse: 0.255 s\n",
      "update_rate: 0.000954\t0.016010\t\n",
      "[ Epoch 66 of 80 ]\n"
     ]
    },
    {
     "data": {
      "application/vnd.jupyter.widget-view+json": {
       "model_id": "",
       "version_major": 2,
       "version_minor": 0
      },
      "text/plain": [
       " - (Training) :   0%|          | 0/1000 [00:00<?, ?it/s]"
      ]
     },
     "metadata": {},
     "output_type": "display_data"
    },
    {
     "name": "stdout",
     "output_type": "stream",
     "text": [
      "- (Train)   bce:  0.3269, mse:  0.9537,  acc: 90.174 %, pearson: 0.731, spearman: 0.527, elapse: 95.713 s\n"
     ]
    },
    {
     "data": {
      "application/vnd.jupyter.widget-view+json": {
       "model_id": "",
       "version_major": 2,
       "version_minor": 0
      },
      "text/plain": [
       "  - (Validation)   :   0%|          | 0/10 [00:00<?, ?it/s]"
      ]
     },
     "metadata": {},
     "output_type": "display_data"
    },
    {
     "name": "stdout",
     "output_type": "stream",
     "text": [
      "- (Valid) bce:  0.3331,  acc: 89.800 %,pearson: 0.709, spearman: 0.520,elapse: 0.257 s\n",
      "update_rate: 0.000898\t0.018034\t\n",
      "[ Epoch 67 of 80 ]\n"
     ]
    },
    {
     "data": {
      "application/vnd.jupyter.widget-view+json": {
       "model_id": "",
       "version_major": 2,
       "version_minor": 0
      },
      "text/plain": [
       " - (Training) :   0%|          | 0/1000 [00:00<?, ?it/s]"
      ]
     },
     "metadata": {},
     "output_type": "display_data"
    },
    {
     "name": "stdout",
     "output_type": "stream",
     "text": [
      "- (Train)   bce:  0.3291, mse:  0.9548,  acc: 90.144 %, pearson: 0.730, spearman: 0.526, elapse: 95.598 s\n"
     ]
    },
    {
     "data": {
      "application/vnd.jupyter.widget-view+json": {
       "model_id": "",
       "version_major": 2,
       "version_minor": 0
      },
      "text/plain": [
       "  - (Validation)   :   0%|          | 0/10 [00:00<?, ?it/s]"
      ]
     },
     "metadata": {},
     "output_type": "display_data"
    },
    {
     "name": "stdout",
     "output_type": "stream",
     "text": [
      "- (Valid) bce:  0.3401,  acc: 89.846 %,pearson: 0.725, spearman: 0.515,elapse: 0.264 s\n",
      "update_rate: 0.000854\t0.017203\t\n",
      "[ Epoch 68 of 80 ]\n"
     ]
    },
    {
     "data": {
      "application/vnd.jupyter.widget-view+json": {
       "model_id": "",
       "version_major": 2,
       "version_minor": 0
      },
      "text/plain": [
       " - (Training) :   0%|          | 0/1000 [00:00<?, ?it/s]"
      ]
     },
     "metadata": {},
     "output_type": "display_data"
    },
    {
     "name": "stdout",
     "output_type": "stream",
     "text": [
      "- (Train)   bce:  0.3273, mse:  0.9538,  acc: 90.181 %, pearson: 0.730, spearman: 0.527, elapse: 94.893 s\n"
     ]
    },
    {
     "data": {
      "application/vnd.jupyter.widget-view+json": {
       "model_id": "",
       "version_major": 2,
       "version_minor": 0
      },
      "text/plain": [
       "  - (Validation)   :   0%|          | 0/10 [00:00<?, ?it/s]"
      ]
     },
     "metadata": {},
     "output_type": "display_data"
    },
    {
     "name": "stdout",
     "output_type": "stream",
     "text": [
      "- (Valid) bce:  0.3276,  acc: 89.924 %,pearson: 0.718, spearman: 0.515,elapse: 0.258 s\n",
      "update_rate: 0.000967\t0.022233\t\n",
      "[ Epoch 69 of 80 ]\n"
     ]
    },
    {
     "data": {
      "application/vnd.jupyter.widget-view+json": {
       "model_id": "",
       "version_major": 2,
       "version_minor": 0
      },
      "text/plain": [
       " - (Training) :   0%|          | 0/1000 [00:00<?, ?it/s]"
      ]
     },
     "metadata": {},
     "output_type": "display_data"
    },
    {
     "name": "stdout",
     "output_type": "stream",
     "text": [
      "- (Train)   bce:  0.3284, mse:  0.9551,  acc: 90.148 %, pearson: 0.731, spearman: 0.526, elapse: 94.840 s\n"
     ]
    },
    {
     "data": {
      "application/vnd.jupyter.widget-view+json": {
       "model_id": "",
       "version_major": 2,
       "version_minor": 0
      },
      "text/plain": [
       "  - (Validation)   :   0%|          | 0/10 [00:00<?, ?it/s]"
      ]
     },
     "metadata": {},
     "output_type": "display_data"
    },
    {
     "name": "stdout",
     "output_type": "stream",
     "text": [
      "- (Valid) bce:  0.3361,  acc: 89.771 %,pearson: 0.690, spearman: 0.515,elapse: 0.265 s\n",
      "update_rate: 0.000635\t0.022671\t\n",
      "[ Epoch 70 of 80 ]\n"
     ]
    },
    {
     "data": {
      "application/vnd.jupyter.widget-view+json": {
       "model_id": "",
       "version_major": 2,
       "version_minor": 0
      },
      "text/plain": [
       " - (Training) :   0%|          | 0/1000 [00:00<?, ?it/s]"
      ]
     },
     "metadata": {},
     "output_type": "display_data"
    },
    {
     "name": "stdout",
     "output_type": "stream",
     "text": [
      "- (Train)   bce:  0.3279, mse:  0.9577,  acc: 90.176 %, pearson: 0.730, spearman: 0.526, elapse: 95.017 s\n"
     ]
    },
    {
     "data": {
      "application/vnd.jupyter.widget-view+json": {
       "model_id": "",
       "version_major": 2,
       "version_minor": 0
      },
      "text/plain": [
       "  - (Validation)   :   0%|          | 0/10 [00:00<?, ?it/s]"
      ]
     },
     "metadata": {},
     "output_type": "display_data"
    },
    {
     "name": "stdout",
     "output_type": "stream",
     "text": [
      "- (Valid) bce:  0.3286,  acc: 90.104 %,pearson: 0.729, spearman: 0.522,elapse: 0.264 s\n",
      "update_rate: 0.000745\t0.021528\t\n",
      "[ Epoch 71 of 80 ]\n"
     ]
    },
    {
     "data": {
      "application/vnd.jupyter.widget-view+json": {
       "model_id": "",
       "version_major": 2,
       "version_minor": 0
      },
      "text/plain": [
       " - (Training) :   0%|          | 0/1000 [00:00<?, ?it/s]"
      ]
     },
     "metadata": {},
     "output_type": "display_data"
    },
    {
     "name": "stdout",
     "output_type": "stream",
     "text": [
      "- (Train)   bce:  0.3282, mse:  0.9826,  acc: 90.144 %, pearson: 0.730, spearman: 0.525, elapse: 95.398 s\n"
     ]
    },
    {
     "data": {
      "application/vnd.jupyter.widget-view+json": {
       "model_id": "",
       "version_major": 2,
       "version_minor": 0
      },
      "text/plain": [
       "  - (Validation)   :   0%|          | 0/10 [00:00<?, ?it/s]"
      ]
     },
     "metadata": {},
     "output_type": "display_data"
    },
    {
     "name": "stdout",
     "output_type": "stream",
     "text": [
      "- (Valid) bce:  0.3247,  acc: 90.200 %,pearson: 0.729, spearman: 0.527,elapse: 0.281 s\n",
      "update_rate: 0.000656\t0.020937\t\n",
      "[ Epoch 72 of 80 ]\n"
     ]
    },
    {
     "data": {
      "application/vnd.jupyter.widget-view+json": {
       "model_id": "",
       "version_major": 2,
       "version_minor": 0
      },
      "text/plain": [
       " - (Training) :   0%|          | 0/1000 [00:00<?, ?it/s]"
      ]
     },
     "metadata": {},
     "output_type": "display_data"
    },
    {
     "name": "stdout",
     "output_type": "stream",
     "text": [
      "- (Train)   bce:  0.3275, mse:  0.9597,  acc: 90.177 %, pearson: 0.729, spearman: 0.526, elapse: 94.920 s\n"
     ]
    },
    {
     "data": {
      "application/vnd.jupyter.widget-view+json": {
       "model_id": "",
       "version_major": 2,
       "version_minor": 0
      },
      "text/plain": [
       "  - (Validation)   :   0%|          | 0/10 [00:00<?, ?it/s]"
      ]
     },
     "metadata": {},
     "output_type": "display_data"
    },
    {
     "name": "stdout",
     "output_type": "stream",
     "text": [
      "- (Valid) bce:  0.3358,  acc: 89.922 %,pearson: 0.730, spearman: 0.519,elapse: 0.306 s\n",
      "update_rate: 0.000799\t0.025072\t\n",
      "[ Epoch 73 of 80 ]\n"
     ]
    },
    {
     "data": {
      "application/vnd.jupyter.widget-view+json": {
       "model_id": "",
       "version_major": 2,
       "version_minor": 0
      },
      "text/plain": [
       " - (Training) :   0%|          | 0/1000 [00:00<?, ?it/s]"
      ]
     },
     "metadata": {},
     "output_type": "display_data"
    },
    {
     "name": "stdout",
     "output_type": "stream",
     "text": [
      "- (Train)   bce:  0.3275, mse:  0.9539,  acc: 90.169 %, pearson: 0.724, spearman: 0.525, elapse: 95.158 s\n"
     ]
    },
    {
     "data": {
      "application/vnd.jupyter.widget-view+json": {
       "model_id": "",
       "version_major": 2,
       "version_minor": 0
      },
      "text/plain": [
       "  - (Validation)   :   0%|          | 0/10 [00:00<?, ?it/s]"
      ]
     },
     "metadata": {},
     "output_type": "display_data"
    },
    {
     "name": "stdout",
     "output_type": "stream",
     "text": [
      "- (Valid) bce:  0.3324,  acc: 90.149 %,pearson: 0.703, spearman: 0.524,elapse: 0.285 s\n",
      "update_rate: 0.000830\t0.020632\t\n",
      "[ Epoch 74 of 80 ]\n"
     ]
    },
    {
     "data": {
      "application/vnd.jupyter.widget-view+json": {
       "model_id": "",
       "version_major": 2,
       "version_minor": 0
      },
      "text/plain": [
       " - (Training) :   0%|          | 0/1000 [00:00<?, ?it/s]"
      ]
     },
     "metadata": {},
     "output_type": "display_data"
    },
    {
     "name": "stdout",
     "output_type": "stream",
     "text": [
      "- (Train)   bce:  0.3284, mse:  0.9544,  acc: 90.119 %, pearson: 0.729, spearman: 0.525, elapse: 94.835 s\n"
     ]
    },
    {
     "data": {
      "application/vnd.jupyter.widget-view+json": {
       "model_id": "",
       "version_major": 2,
       "version_minor": 0
      },
      "text/plain": [
       "  - (Validation)   :   0%|          | 0/10 [00:00<?, ?it/s]"
      ]
     },
     "metadata": {},
     "output_type": "display_data"
    },
    {
     "name": "stdout",
     "output_type": "stream",
     "text": [
      "- (Valid) bce:  0.3296,  acc: 89.855 %,pearson: 0.720, spearman: 0.519,elapse: 0.258 s\n",
      "update_rate: 0.000570\t0.018636\t\n",
      "[ Epoch 75 of 80 ]\n"
     ]
    },
    {
     "data": {
      "application/vnd.jupyter.widget-view+json": {
       "model_id": "",
       "version_major": 2,
       "version_minor": 0
      },
      "text/plain": [
       " - (Training) :   0%|          | 0/1000 [00:00<?, ?it/s]"
      ]
     },
     "metadata": {},
     "output_type": "display_data"
    },
    {
     "name": "stdout",
     "output_type": "stream",
     "text": [
      "- (Train)   bce:  0.3272, mse:  0.9556,  acc: 90.178 %, pearson: 0.729, spearman: 0.526, elapse: 96.062 s\n"
     ]
    },
    {
     "data": {
      "application/vnd.jupyter.widget-view+json": {
       "model_id": "",
       "version_major": 2,
       "version_minor": 0
      },
      "text/plain": [
       "  - (Validation)   :   0%|          | 0/10 [00:00<?, ?it/s]"
      ]
     },
     "metadata": {},
     "output_type": "display_data"
    },
    {
     "name": "stdout",
     "output_type": "stream",
     "text": [
      "- (Valid) bce:  0.3339,  acc: 89.947 %,pearson: 0.718, spearman: 0.522,elapse: 0.268 s\n",
      "update_rate: 0.000706\t0.017171\t\n",
      "[ Epoch 76 of 80 ]\n"
     ]
    },
    {
     "data": {
      "application/vnd.jupyter.widget-view+json": {
       "model_id": "",
       "version_major": 2,
       "version_minor": 0
      },
      "text/plain": [
       " - (Training) :   0%|          | 0/1000 [00:00<?, ?it/s]"
      ]
     },
     "metadata": {},
     "output_type": "display_data"
    },
    {
     "name": "stdout",
     "output_type": "stream",
     "text": [
      "- (Train)   bce:  0.3280, mse:  0.9563,  acc: 90.153 %, pearson: 0.731, spearman: 0.526, elapse: 96.144 s\n"
     ]
    },
    {
     "data": {
      "application/vnd.jupyter.widget-view+json": {
       "model_id": "",
       "version_major": 2,
       "version_minor": 0
      },
      "text/plain": [
       "  - (Validation)   :   0%|          | 0/10 [00:00<?, ?it/s]"
      ]
     },
     "metadata": {},
     "output_type": "display_data"
    },
    {
     "name": "stdout",
     "output_type": "stream",
     "text": [
      "- (Valid) bce:  0.3297,  acc: 90.083 %,pearson: 0.727, spearman: 0.527,elapse: 0.259 s\n",
      "update_rate: 0.000698\t0.020558\t\n",
      "[ Epoch 77 of 80 ]\n"
     ]
    },
    {
     "data": {
      "application/vnd.jupyter.widget-view+json": {
       "model_id": "",
       "version_major": 2,
       "version_minor": 0
      },
      "text/plain": [
       " - (Training) :   0%|          | 0/1000 [00:00<?, ?it/s]"
      ]
     },
     "metadata": {},
     "output_type": "display_data"
    },
    {
     "name": "stdout",
     "output_type": "stream",
     "text": [
      "- (Train)   bce:  0.3286, mse:  0.9547,  acc: 90.130 %, pearson: 0.727, spearman: 0.525, elapse: 95.542 s\n"
     ]
    },
    {
     "data": {
      "application/vnd.jupyter.widget-view+json": {
       "model_id": "",
       "version_major": 2,
       "version_minor": 0
      },
      "text/plain": [
       "  - (Validation)   :   0%|          | 0/10 [00:00<?, ?it/s]"
      ]
     },
     "metadata": {},
     "output_type": "display_data"
    },
    {
     "name": "stdout",
     "output_type": "stream",
     "text": [
      "- (Valid) bce:  0.3331,  acc: 90.057 %,pearson: 0.730, spearman: 0.521,elapse: 0.266 s\n",
      "update_rate: 0.000963\t0.021044\t\n",
      "[ Epoch 78 of 80 ]\n"
     ]
    },
    {
     "data": {
      "application/vnd.jupyter.widget-view+json": {
       "model_id": "",
       "version_major": 2,
       "version_minor": 0
      },
      "text/plain": [
       " - (Training) :   0%|          | 0/1000 [00:00<?, ?it/s]"
      ]
     },
     "metadata": {},
     "output_type": "display_data"
    },
    {
     "name": "stdout",
     "output_type": "stream",
     "text": [
      "- (Train)   bce:  0.3281, mse:  0.9561,  acc: 90.149 %, pearson: 0.731, spearman: 0.525, elapse: 94.772 s\n"
     ]
    },
    {
     "data": {
      "application/vnd.jupyter.widget-view+json": {
       "model_id": "",
       "version_major": 2,
       "version_minor": 0
      },
      "text/plain": [
       "  - (Validation)   :   0%|          | 0/10 [00:00<?, ?it/s]"
      ]
     },
     "metadata": {},
     "output_type": "display_data"
    },
    {
     "name": "stdout",
     "output_type": "stream",
     "text": [
      "- (Valid) bce:  0.3245,  acc: 90.156 %,pearson: 0.710, spearman: 0.525,elapse: 0.256 s\n",
      "update_rate: 0.000813\t0.014690\t\n",
      "[ Epoch 79 of 80 ]\n"
     ]
    },
    {
     "data": {
      "application/vnd.jupyter.widget-view+json": {
       "model_id": "",
       "version_major": 2,
       "version_minor": 0
      },
      "text/plain": [
       " - (Training) :   0%|          | 0/1000 [00:00<?, ?it/s]"
      ]
     },
     "metadata": {},
     "output_type": "display_data"
    },
    {
     "name": "stdout",
     "output_type": "stream",
     "text": [
      "- (Train)   bce:  0.3273, mse:  1.0023,  acc: 90.151 %, pearson: 0.732, spearman: 0.525, elapse: 95.475 s\n"
     ]
    },
    {
     "data": {
      "application/vnd.jupyter.widget-view+json": {
       "model_id": "",
       "version_major": 2,
       "version_minor": 0
      },
      "text/plain": [
       "  - (Validation)   :   0%|          | 0/10 [00:00<?, ?it/s]"
      ]
     },
     "metadata": {},
     "output_type": "display_data"
    },
    {
     "name": "stdout",
     "output_type": "stream",
     "text": [
      "- (Valid) bce:  0.3357,  acc: 90.002 %,pearson: 0.715, spearman: 0.520,elapse: 0.258 s\n",
      "update_rate: 0.000961\t0.017665\t\n"
     ]
    },
    {
     "data": {
      "application/vnd.jupyter.widget-view+json": {
       "model_id": "",
       "version_major": 2,
       "version_minor": 0
      },
      "text/plain": [
       "  - (Validation)   :   0%|          | 0/10 [00:00<?, ?it/s]"
      ]
     },
     "metadata": {},
     "output_type": "display_data"
    },
    {
     "name": "stdout",
     "output_type": "stream",
     "text": [
      "  - (Validation-hyper) bce:  0.4107,  acc: 83.215 %, auc: 0.572, aupr: 0.422,elapse: 2.350 s\n"
     ]
    }
   ],
   "source": [
    "# Stage 1 training\n",
    "higashi_model.train_for_embeddings()"
   ]
  },
  {
   "cell_type": "markdown",
   "metadata": {},
   "source": [
    "### 4. Visualize embedding results"
   ]
  },
  {
   "cell_type": "code",
   "execution_count": 20,
   "metadata": {},
   "outputs": [
    {
     "name": "stdout",
     "output_type": "stream",
     "text": [
      "(16707, 128)\n"
     ]
    },
    {
     "data": {
      "image/png": "[encoded data removed]",
      "text/plain": [
       "<Figure size 1008x360 with 2 Axes>"
      ]
     },
     "metadata": {
      "needs_background": "light"
     },
     "output_type": "display_data"
    }
   ],
   "source": [
    "# Visualize embedding results\n",
    "cell_embeddings = higashi_model.fetch_cell_embeddings()\n",
    "print (cell_embeddings.shape)\n",
    "\n",
    "from umap import UMAP\n",
    "import seaborn as sns\n",
    "import matplotlib.pyplot as plt\n",
    "\n",
    "vec = UMAP(n_components=2, n_neighbors=25, random_state=0).fit_transform(cell_embeddings)\n",
    "cell_type = higashi_model.label_info['cell type']\n",
    "batch = higashi_model.label_info['batch']\n",
    "fig = plt.figure(figsize=(14, 5))\n",
    "ax = plt.subplot(1, 2, 1)\n",
    "sns.scatterplot(x=vec[:, 0], y=vec[:, 1], hue=cell_type, ax=ax, s=5, alpha=0.8, linewidth=0, hue_order=['GM12878','IMR90','HFF', 'HAP1', 'H1Esc'])\n",
    "handles, labels = ax.get_legend_handles_labels()\n",
    "labels, handles = zip(*sorted(zip(labels, handles), key=lambda t: t[0]))\n",
    "ax.legend(handles=handles, labels=labels, bbox_to_anchor=(1.05, 1), loc=2, borderaxespad=0., ncol=1)\n",
    "ax = plt.subplot(1, 2, 2)\n",
    "sns.scatterplot(x=vec[:, 0], y=vec[:, 1], hue=batch, ax=ax, s=5, alpha=0.8, linewidth=0)\n",
    "handles, labels = ax.get_legend_handles_labels()\n",
    "labels, handles = zip(*sorted(zip(labels, handles), key=lambda t: t[0]))\n",
    "ax.legend(handles=handles, labels=labels, bbox_to_anchor=(1.05, 1), loc=2, borderaxespad=0., ncol=1)\n",
    "plt.tight_layout()\n",
    "plt.show()\n",
    "\n"
   ]
  },
  {
   "cell_type": "markdown",
   "metadata": {},
   "source": [
    "The tutorial of scHiCluster on this dataset can be found here: https://github.com/zhoujt1994/scHiCluster/tree/master/example/4DN"
   ]
  }
 ],
 "metadata": {
  "kernelspec": {
   "display_name": "Python 3 (ipykernel)",
   "language": "python",
   "name": "python3"
  },
  "language_info": {
   "codemirror_mode": {
    "name": "ipython",
    "version": 3
   },
   "file_extension": ".py",
   "mimetype": "text/x-python",
   "name": "python",
   "nbconvert_exporter": "python",
   "pygments_lexer": "ipython3",
   "version": "3.9.9"
  }
 },
 "nbformat": 4,
 "nbformat_minor": 4
}